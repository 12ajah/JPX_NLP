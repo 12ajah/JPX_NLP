{
 "cells": [
  {
   "cell_type": "code",
   "execution_count": 2,
   "metadata": {},
   "outputs": [],
   "source": [
    "import pandas as pd\n",
    "import numpy as np\n",
    "import matplotlib.pyplot as plt\n",
    "import datetime\n",
    "%matplotlib inline"
   ]
  },
  {
   "cell_type": "code",
   "execution_count": 3,
   "metadata": {},
   "outputs": [
    {
     "data": {
      "text/html": [
       "<div>\n",
       "<style scoped>\n",
       "    .dataframe tbody tr th:only-of-type {\n",
       "        vertical-align: middle;\n",
       "    }\n",
       "\n",
       "    .dataframe tbody tr th {\n",
       "        vertical-align: top;\n",
       "    }\n",
       "\n",
       "    .dataframe thead th {\n",
       "        text-align: right;\n",
       "    }\n",
       "</style>\n",
       "<table border=\"1\" class=\"dataframe\">\n",
       "  <thead>\n",
       "    <tr style=\"text-align: right;\">\n",
       "      <th></th>\n",
       "      <th>article_id</th>\n",
       "      <th>publish_datetime</th>\n",
       "      <th>media_code</th>\n",
       "      <th>media_name</th>\n",
       "      <th>men_name</th>\n",
       "      <th>page_from</th>\n",
       "      <th>picture_flag</th>\n",
       "      <th>paragraph_cnt</th>\n",
       "      <th>char_length</th>\n",
       "      <th>headline</th>\n",
       "      <th>keywords</th>\n",
       "      <th>classifications</th>\n",
       "      <th>company_g.stock_code</th>\n",
       "    </tr>\n",
       "  </thead>\n",
       "  <tbody>\n",
       "    <tr>\n",
       "      <th>0</th>\n",
       "      <td>TDSKDBDGXMZO5390477027122019PE8000</td>\n",
       "      <td>2020-01-01T00:00:00+09:00</td>\n",
       "      <td>TNY</td>\n",
       "      <td>日本経済新聞電子版</td>\n",
       "      <td>NaN</td>\n",
       "      <td>NaN</td>\n",
       "      <td>有</td>\n",
       "      <td>13</td>\n",
       "      <td>1661</td>\n",
       "      <td>日米貿易協定が発効　TPP土台に自由貿易圏拡大\\n日本、RCEPに波及期待</td>\n",
       "      <td>政府\\n米国政府\\n東アジア地域包括的経済連携\\nＴＰＰ\\n安倍晋三\\n貿易協定\\n自由貿易...</td>\n",
       "      <td>＄絵写表記事\\n＃Ｗ２０２０３\\n＃Ｗ２０４０４\\n＃Ｗ２０２０１\\n＃Ｗ２０４０１\\n＃Ａ...</td>\n",
       "      <td>NaN</td>\n",
       "    </tr>\n",
       "    <tr>\n",
       "      <th>1</th>\n",
       "      <td>TDSKDBDGXMZO5400046031122019905M00</td>\n",
       "      <td>2020-01-01T00:00:00+09:00</td>\n",
       "      <td>TNY</td>\n",
       "      <td>日本経済新聞電子版</td>\n",
       "      <td>NaN</td>\n",
       "      <td>NaN</td>\n",
       "      <td>NaN</td>\n",
       "      <td>1</td>\n",
       "      <td>35</td>\n",
       "      <td>人事、衆院</td>\n",
       "      <td>衆議院</td>\n",
       "      <td>＃Ｋ１\\n＃Ｂ０６３０</td>\n",
       "      <td>NaN</td>\n",
       "    </tr>\n",
       "    <tr>\n",
       "      <th>2</th>\n",
       "      <td>TDSKDBDGXMZO5400047031122019905M00</td>\n",
       "      <td>2020-01-01T00:00:00+09:00</td>\n",
       "      <td>TNY</td>\n",
       "      <td>日本経済新聞電子版</td>\n",
       "      <td>NaN</td>\n",
       "      <td>NaN</td>\n",
       "      <td>NaN</td>\n",
       "      <td>1</td>\n",
       "      <td>18</td>\n",
       "      <td>人事、外務省</td>\n",
       "      <td>外務省</td>\n",
       "      <td>＃Ｋ１\\n＃Ｂ０６３０</td>\n",
       "      <td>NaN</td>\n",
       "    </tr>\n",
       "  </tbody>\n",
       "</table>\n",
       "</div>"
      ],
      "text/plain": [
       "                           article_id           publish_datetime media_code  \\\n",
       "0  TDSKDBDGXMZO5390477027122019PE8000  2020-01-01T00:00:00+09:00        TNY   \n",
       "1  TDSKDBDGXMZO5400046031122019905M00  2020-01-01T00:00:00+09:00        TNY   \n",
       "2  TDSKDBDGXMZO5400047031122019905M00  2020-01-01T00:00:00+09:00        TNY   \n",
       "\n",
       "  media_name  men_name  page_from picture_flag  paragraph_cnt  char_length  \\\n",
       "0  日本経済新聞電子版       NaN        NaN            有             13         1661   \n",
       "1  日本経済新聞電子版       NaN        NaN          NaN              1           35   \n",
       "2  日本経済新聞電子版       NaN        NaN          NaN              1           18   \n",
       "\n",
       "                                headline  \\\n",
       "0  日米貿易協定が発効　TPP土台に自由貿易圏拡大\\n日本、RCEPに波及期待   \n",
       "1                                  人事、衆院   \n",
       "2                                 人事、外務省   \n",
       "\n",
       "                                            keywords  \\\n",
       "0  政府\\n米国政府\\n東アジア地域包括的経済連携\\nＴＰＰ\\n安倍晋三\\n貿易協定\\n自由貿易...   \n",
       "1                                                衆議院   \n",
       "2                                                外務省   \n",
       "\n",
       "                                     classifications company_g.stock_code  \n",
       "0  ＄絵写表記事\\n＃Ｗ２０２０３\\n＃Ｗ２０４０４\\n＃Ｗ２０２０１\\n＃Ｗ２０４０１\\n＃Ａ...                  NaN  \n",
       "1                                        ＃Ｋ１\\n＃Ｂ０６３０                  NaN  \n",
       "2                                        ＃Ｋ１\\n＃Ｂ０６３０                  NaN  "
      ]
     },
     "execution_count": 3,
     "metadata": {},
     "output_type": "execute_result"
    }
   ],
   "source": [
    "df_article = pd.read_csv('../data/nikkei_article.csv.gz')\n",
    "df_article.head(3)"
   ]
  },
  {
   "cell_type": "markdown",
   "metadata": {},
   "source": [
    "* 発行媒体で市場へのインパクトは異なるのか?  \n",
    "  ⇒\"TNY\"しかない\n",
    "* 面情報で市場へのインパクトは異なるのか？(1面はインパクトがありそう?)  \n",
    "  ⇒そもそもデータがない\n",
    "* 写真の有無(picture_flag)はリターンに関係するのか?\n",
    "* 記事の長さ(char_length)はリターンに関係するのか？"
   ]
  },
  {
   "cell_type": "code",
   "execution_count": 4,
   "metadata": {},
   "outputs": [
    {
     "name": "stdout",
     "output_type": "stream",
     "text": [
      "<class 'pandas.core.frame.DataFrame'>\n",
      "RangeIndex: 178393 entries, 0 to 178392\n",
      "Data columns (total 13 columns):\n",
      " #   Column                Non-Null Count   Dtype  \n",
      "---  ------                --------------   -----  \n",
      " 0   article_id            178393 non-null  object \n",
      " 1   publish_datetime      178393 non-null  object \n",
      " 2   media_code            178393 non-null  object \n",
      " 3   media_name            178393 non-null  object \n",
      " 4   men_name              0 non-null       float64\n",
      " 5   page_from             0 non-null       float64\n",
      " 6   picture_flag          75294 non-null   object \n",
      " 7   paragraph_cnt         178393 non-null  int64  \n",
      " 8   char_length           178393 non-null  int64  \n",
      " 9   headline              178393 non-null  object \n",
      " 10  keywords              177894 non-null  object \n",
      " 11  classifications       173346 non-null  object \n",
      " 12  company_g.stock_code  68369 non-null   object \n",
      "dtypes: float64(2), int64(2), object(9)\n",
      "memory usage: 17.7+ MB\n"
     ]
    }
   ],
   "source": [
    "df_article.info()"
   ]
  },
  {
   "cell_type": "code",
   "execution_count": 5,
   "metadata": {},
   "outputs": [
    {
     "data": {
      "text/html": [
       "<div>\n",
       "<style scoped>\n",
       "    .dataframe tbody tr th:only-of-type {\n",
       "        vertical-align: middle;\n",
       "    }\n",
       "\n",
       "    .dataframe tbody tr th {\n",
       "        vertical-align: top;\n",
       "    }\n",
       "\n",
       "    .dataframe thead th {\n",
       "        text-align: right;\n",
       "    }\n",
       "</style>\n",
       "<table border=\"1\" class=\"dataframe\">\n",
       "  <thead>\n",
       "    <tr style=\"text-align: right;\">\n",
       "      <th></th>\n",
       "      <th>article_id</th>\n",
       "      <th>publish_datetime</th>\n",
       "      <th>media_name</th>\n",
       "      <th>men_name</th>\n",
       "      <th>page_from</th>\n",
       "      <th>picture_flag</th>\n",
       "      <th>paragraph_cnt</th>\n",
       "      <th>char_length</th>\n",
       "      <th>headline</th>\n",
       "      <th>keywords</th>\n",
       "      <th>classifications</th>\n",
       "      <th>company_g.stock_code</th>\n",
       "    </tr>\n",
       "    <tr>\n",
       "      <th>media_code</th>\n",
       "      <th></th>\n",
       "      <th></th>\n",
       "      <th></th>\n",
       "      <th></th>\n",
       "      <th></th>\n",
       "      <th></th>\n",
       "      <th></th>\n",
       "      <th></th>\n",
       "      <th></th>\n",
       "      <th></th>\n",
       "      <th></th>\n",
       "      <th></th>\n",
       "    </tr>\n",
       "  </thead>\n",
       "  <tbody>\n",
       "    <tr>\n",
       "      <th>TNY</th>\n",
       "      <td>178393</td>\n",
       "      <td>178393</td>\n",
       "      <td>178393</td>\n",
       "      <td>0</td>\n",
       "      <td>0</td>\n",
       "      <td>75294</td>\n",
       "      <td>178393</td>\n",
       "      <td>178393</td>\n",
       "      <td>178393</td>\n",
       "      <td>177894</td>\n",
       "      <td>173346</td>\n",
       "      <td>68369</td>\n",
       "    </tr>\n",
       "  </tbody>\n",
       "</table>\n",
       "</div>"
      ],
      "text/plain": [
       "            article_id  publish_datetime  media_name  men_name  page_from  \\\n",
       "media_code                                                                  \n",
       "TNY             178393            178393      178393         0          0   \n",
       "\n",
       "            picture_flag  paragraph_cnt  char_length  headline  keywords  \\\n",
       "media_code                                                                 \n",
       "TNY                75294         178393       178393    178393    177894   \n",
       "\n",
       "            classifications  company_g.stock_code  \n",
       "media_code                                         \n",
       "TNY                  173346                 68369  "
      ]
     },
     "execution_count": 5,
     "metadata": {},
     "output_type": "execute_result"
    }
   ],
   "source": [
    "df_article.groupby(by='media_code').count()"
   ]
  },
  {
   "cell_type": "markdown",
   "metadata": {},
   "source": [
    "## 写真の有無について\n",
    "`company_g.stock_code`が存在するもののみを対象とする"
   ]
  },
  {
   "cell_type": "code",
   "execution_count": 6,
   "metadata": {},
   "outputs": [
    {
     "data": {
      "text/html": [
       "<div>\n",
       "<style scoped>\n",
       "    .dataframe tbody tr th:only-of-type {\n",
       "        vertical-align: middle;\n",
       "    }\n",
       "\n",
       "    .dataframe tbody tr th {\n",
       "        vertical-align: top;\n",
       "    }\n",
       "\n",
       "    .dataframe thead th {\n",
       "        text-align: right;\n",
       "    }\n",
       "</style>\n",
       "<table border=\"1\" class=\"dataframe\">\n",
       "  <thead>\n",
       "    <tr style=\"text-align: right;\">\n",
       "      <th></th>\n",
       "      <th>prediction_target</th>\n",
       "      <th>Effective Date</th>\n",
       "      <th>Local Code</th>\n",
       "      <th>Name (English)</th>\n",
       "      <th>Section/Products</th>\n",
       "      <th>33 Sector(Code)</th>\n",
       "      <th>33 Sector(name)</th>\n",
       "      <th>17 Sector(Code)</th>\n",
       "      <th>17 Sector(name)</th>\n",
       "      <th>Size Code (New Index Series)</th>\n",
       "      <th>Size (New Index Series)</th>\n",
       "      <th>IssuedShareEquityQuote AccountingStandard</th>\n",
       "      <th>IssuedShareEquityQuote ModifyDate</th>\n",
       "      <th>IssuedShareEquityQuote IssuedShare</th>\n",
       "      <th>universe_comp2</th>\n",
       "    </tr>\n",
       "  </thead>\n",
       "  <tbody>\n",
       "    <tr>\n",
       "      <th>0</th>\n",
       "      <td>True</td>\n",
       "      <td>20201230</td>\n",
       "      <td>1301</td>\n",
       "      <td>KYOKUYO CO.,LTD.</td>\n",
       "      <td>First Section (Domestic)</td>\n",
       "      <td>50</td>\n",
       "      <td>Fishery, Agriculture and Forestry</td>\n",
       "      <td>1</td>\n",
       "      <td>FOODS</td>\n",
       "      <td>7</td>\n",
       "      <td>TOPIX Small 2</td>\n",
       "      <td>ConsolidatedJP</td>\n",
       "      <td>2020/11/06</td>\n",
       "      <td>10928283.0</td>\n",
       "      <td>True</td>\n",
       "    </tr>\n",
       "    <tr>\n",
       "      <th>1</th>\n",
       "      <td>True</td>\n",
       "      <td>20201230</td>\n",
       "      <td>1332</td>\n",
       "      <td>Nippon Suisan Kaisha,Ltd.</td>\n",
       "      <td>First Section (Domestic)</td>\n",
       "      <td>50</td>\n",
       "      <td>Fishery, Agriculture and Forestry</td>\n",
       "      <td>1</td>\n",
       "      <td>FOODS</td>\n",
       "      <td>4</td>\n",
       "      <td>TOPIX Mid400</td>\n",
       "      <td>ConsolidatedJP</td>\n",
       "      <td>2020/11/05</td>\n",
       "      <td>312430277.0</td>\n",
       "      <td>True</td>\n",
       "    </tr>\n",
       "    <tr>\n",
       "      <th>2</th>\n",
       "      <td>True</td>\n",
       "      <td>20201230</td>\n",
       "      <td>1333</td>\n",
       "      <td>Maruha Nichiro Corporation</td>\n",
       "      <td>First Section (Domestic)</td>\n",
       "      <td>50</td>\n",
       "      <td>Fishery, Agriculture and Forestry</td>\n",
       "      <td>1</td>\n",
       "      <td>FOODS</td>\n",
       "      <td>4</td>\n",
       "      <td>TOPIX Mid400</td>\n",
       "      <td>ConsolidatedJP</td>\n",
       "      <td>2020/11/02</td>\n",
       "      <td>52656910.0</td>\n",
       "      <td>True</td>\n",
       "    </tr>\n",
       "  </tbody>\n",
       "</table>\n",
       "</div>"
      ],
      "text/plain": [
       "   prediction_target  Effective Date  Local Code              Name (English)  \\\n",
       "0               True        20201230        1301            KYOKUYO CO.,LTD.   \n",
       "1               True        20201230        1332   Nippon Suisan Kaisha,Ltd.   \n",
       "2               True        20201230        1333  Maruha Nichiro Corporation   \n",
       "\n",
       "           Section/Products  33 Sector(Code)  \\\n",
       "0  First Section (Domestic)               50   \n",
       "1  First Section (Domestic)               50   \n",
       "2  First Section (Domestic)               50   \n",
       "\n",
       "                     33 Sector(name)  17 Sector(Code) 17 Sector(name)  \\\n",
       "0  Fishery, Agriculture and Forestry                1          FOODS    \n",
       "1  Fishery, Agriculture and Forestry                1          FOODS    \n",
       "2  Fishery, Agriculture and Forestry                1          FOODS    \n",
       "\n",
       "  Size Code (New Index Series) Size (New Index Series)  \\\n",
       "0                            7           TOPIX Small 2   \n",
       "1                            4            TOPIX Mid400   \n",
       "2                            4            TOPIX Mid400   \n",
       "\n",
       "  IssuedShareEquityQuote AccountingStandard IssuedShareEquityQuote ModifyDate  \\\n",
       "0                            ConsolidatedJP                        2020/11/06   \n",
       "1                            ConsolidatedJP                        2020/11/05   \n",
       "2                            ConsolidatedJP                        2020/11/02   \n",
       "\n",
       "   IssuedShareEquityQuote IssuedShare  universe_comp2  \n",
       "0                          10928283.0            True  \n",
       "1                         312430277.0            True  \n",
       "2                          52656910.0            True  "
      ]
     },
     "execution_count": 6,
     "metadata": {},
     "output_type": "execute_result"
    }
   ],
   "source": [
    "stock_list = pd.read_csv('../data/stock_list.csv.gz')\n",
    "codes = stock_list['Local Code'].astype(str)\n",
    "stock_list.head(3)"
   ]
  },
  {
   "cell_type": "code",
   "execution_count": 7,
   "metadata": {
    "scrolled": true
   },
   "outputs": [
    {
     "data": {
      "text/html": [
       "<div>\n",
       "<style scoped>\n",
       "    .dataframe tbody tr th:only-of-type {\n",
       "        vertical-align: middle;\n",
       "    }\n",
       "\n",
       "    .dataframe tbody tr th {\n",
       "        vertical-align: top;\n",
       "    }\n",
       "\n",
       "    .dataframe thead th {\n",
       "        text-align: right;\n",
       "    }\n",
       "</style>\n",
       "<table border=\"1\" class=\"dataframe\">\n",
       "  <thead>\n",
       "    <tr style=\"text-align: right;\">\n",
       "      <th></th>\n",
       "      <th>article_id</th>\n",
       "      <th>publish_datetime</th>\n",
       "      <th>media_code</th>\n",
       "      <th>media_name</th>\n",
       "      <th>men_name</th>\n",
       "      <th>page_from</th>\n",
       "      <th>picture_flag</th>\n",
       "      <th>paragraph_cnt</th>\n",
       "      <th>char_length</th>\n",
       "      <th>headline</th>\n",
       "      <th>keywords</th>\n",
       "      <th>classifications</th>\n",
       "      <th>company_g.stock_code</th>\n",
       "    </tr>\n",
       "  </thead>\n",
       "  <tbody>\n",
       "    <tr>\n",
       "      <th>10</th>\n",
       "      <td>TDSKDBDGXMZO5400542031122019NN1000</td>\n",
       "      <td>2020-01-01T00:00:33+09:00</td>\n",
       "      <td>TNY</td>\n",
       "      <td>日本経済新聞電子版</td>\n",
       "      <td>NaN</td>\n",
       "      <td>NaN</td>\n",
       "      <td>有</td>\n",
       "      <td>19</td>\n",
       "      <td>1778</td>\n",
       "      <td>ゴーン元会長、周到な不意打ち出国　司法批判の声明</td>\n",
       "      <td>カルロス・ゴーン\\n日産自動車\\nグレッグ・ケリー\\n弘中惇一郎\\nＭｕｓｉｃＴｅｌｅｖｉｓ...</td>\n",
       "      <td>＄絵写表記事\\nＴ７２０１\\nＰＤ２７１\\nＮ０００１３５１\\nＮ００４４３７１\\n＃Ｗ５０...</td>\n",
       "      <td>7201</td>\n",
       "    </tr>\n",
       "    <tr>\n",
       "      <th>19</th>\n",
       "      <td>TDSKDBDGXMZO5387164027122019L41000</td>\n",
       "      <td>2020-01-01T01:00:00+09:00</td>\n",
       "      <td>TNY</td>\n",
       "      <td>日本経済新聞電子版</td>\n",
       "      <td>NaN</td>\n",
       "      <td>NaN</td>\n",
       "      <td>有</td>\n",
       "      <td>12</td>\n",
       "      <td>1347</td>\n",
       "      <td>地銀が変わる、始まったマニュアルなき大競争</td>\n",
       "      <td>金融検査マニュアル\\nマニュアル\\n笹原晶博\\n安田光春\\n金融機関\\n銀行\\n地方銀行\\n...</td>\n",
       "      <td>＄絵写表記事\\nＴ８５２４\\nＰＤ４７３\\nＮ００７００１７\\nＮ００７００８７\\n＃Ｗ２０...</td>\n",
       "      <td>8524</td>\n",
       "    </tr>\n",
       "    <tr>\n",
       "      <th>22</th>\n",
       "      <td>TDSKDBDGXKZO5400896001012020MM8000</td>\n",
       "      <td>2020-01-01T01:43:50+09:00</td>\n",
       "      <td>TNY</td>\n",
       "      <td>日本経済新聞電子版</td>\n",
       "      <td>NaN</td>\n",
       "      <td>NaN</td>\n",
       "      <td>NaN</td>\n",
       "      <td>4</td>\n",
       "      <td>569</td>\n",
       "      <td>元日付のこういうコラムは、ふつうなら来し方行く末に思いをはせ、まずは新年をことほぐものである...</td>\n",
       "      <td>春秋\\nカルロス・ゴーン\\nコラム\\n来し方行く末\\n思い\\n日付\\n新年</td>\n",
       "      <td>「春秋」\\n＊春秋\\nＴ７２０１\\nＰＤ２７１\\nＮ０００１３５１\\n＃Ｗ５０３０５\\n＃Ｗ...</td>\n",
       "      <td>7201</td>\n",
       "    </tr>\n",
       "  </tbody>\n",
       "</table>\n",
       "</div>"
      ],
      "text/plain": [
       "                            article_id           publish_datetime media_code  \\\n",
       "10  TDSKDBDGXMZO5400542031122019NN1000  2020-01-01T00:00:33+09:00        TNY   \n",
       "19  TDSKDBDGXMZO5387164027122019L41000  2020-01-01T01:00:00+09:00        TNY   \n",
       "22  TDSKDBDGXKZO5400896001012020MM8000  2020-01-01T01:43:50+09:00        TNY   \n",
       "\n",
       "   media_name  men_name  page_from picture_flag  paragraph_cnt  char_length  \\\n",
       "10  日本経済新聞電子版       NaN        NaN            有             19         1778   \n",
       "19  日本経済新聞電子版       NaN        NaN            有             12         1347   \n",
       "22  日本経済新聞電子版       NaN        NaN          NaN              4          569   \n",
       "\n",
       "                                             headline  \\\n",
       "10                           ゴーン元会長、周到な不意打ち出国　司法批判の声明   \n",
       "19                              地銀が変わる、始まったマニュアルなき大競争   \n",
       "22  元日付のこういうコラムは、ふつうなら来し方行く末に思いをはせ、まずは新年をことほぐものである...   \n",
       "\n",
       "                                             keywords  \\\n",
       "10  カルロス・ゴーン\\n日産自動車\\nグレッグ・ケリー\\n弘中惇一郎\\nＭｕｓｉｃＴｅｌｅｖｉｓ...   \n",
       "19  金融検査マニュアル\\nマニュアル\\n笹原晶博\\n安田光春\\n金融機関\\n銀行\\n地方銀行\\n...   \n",
       "22              春秋\\nカルロス・ゴーン\\nコラム\\n来し方行く末\\n思い\\n日付\\n新年   \n",
       "\n",
       "                                      classifications company_g.stock_code  \n",
       "10  ＄絵写表記事\\nＴ７２０１\\nＰＤ２７１\\nＮ０００１３５１\\nＮ００４４３７１\\n＃Ｗ５０...                 7201  \n",
       "19  ＄絵写表記事\\nＴ８５２４\\nＰＤ４７３\\nＮ００７００１７\\nＮ００７００８７\\n＃Ｗ２０...                 8524  \n",
       "22  「春秋」\\n＊春秋\\nＴ７２０１\\nＰＤ２７１\\nＮ０００１３５１\\n＃Ｗ５０３０５\\n＃Ｗ...                 7201  "
      ]
     },
     "execution_count": 7,
     "metadata": {},
     "output_type": "execute_result"
    }
   ],
   "source": [
    "df_target = df_article[df_article['company_g.stock_code'].isin(codes)].copy()\n",
    "df_target.head(3)"
   ]
  },
  {
   "cell_type": "code",
   "execution_count": 8,
   "metadata": {},
   "outputs": [
    {
     "name": "stdout",
     "output_type": "stream",
     "text": [
      "欠損値の割合: 0.6049523142882142\n"
     ]
    }
   ],
   "source": [
    "print('欠損値の割合:', df_target['picture_flag'].isnull().sum() / len(df_target))"
   ]
  },
  {
   "cell_type": "markdown",
   "metadata": {},
   "source": [
    "\"有\" or \"\"(欠損値)となっている"
   ]
  },
  {
   "cell_type": "code",
   "execution_count": 9,
   "metadata": {},
   "outputs": [
    {
     "data": {
      "text/plain": [
       "<AxesSubplot:>"
      ]
     },
     "execution_count": 9,
     "metadata": {},
     "output_type": "execute_result"
    },
    {
     "data": {
      "image/png": "[encoded data removed]",
      "text/plain": [
       "<Figure size 432x288 with 1 Axes>"
      ]
     },
     "metadata": {
      "needs_background": "light"
     },
     "output_type": "display_data"
    }
   ],
   "source": [
    "df_target['picture_flag'] = df_target['picture_flag'].replace('有', 1).fillna(0)\n",
    "df_target['picture_flag'].hist()"
   ]
  },
  {
   "cell_type": "markdown",
   "metadata": {},
   "source": [
    "少し写真が無いデータに偏りはあるが、写真があるサンプルは2万件弱あるので比較検証はできそう。  \n",
    "記事の公表後(1営業日, 5営業日, 20営業日)にリターンの差があるか検証。  \n",
    "記事の内容の極性(ポジティブ・ネガティブ)か区別できればリターンに対しても正負を比較してみるのも良さそう。    \n",
    "今回は極性が不明のため、市場への影響(プラス, マイナス, 絶対値)を見てみることにする。  "
   ]
  },
  {
   "cell_type": "code",
   "execution_count": 10,
   "metadata": {
    "scrolled": true
   },
   "outputs": [
    {
     "data": {
      "text/plain": [
       "Text(0.5, 1.0, 'published num in each hour')"
      ]
     },
     "execution_count": 10,
     "metadata": {},
     "output_type": "execute_result"
    },
    {
     "data": {
      "image/png": "[encoded data removed]",
      "text/plain": [
       "<Figure size 432x288 with 1 Axes>"
      ]
     },
     "metadata": {
      "needs_background": "light"
     },
     "output_type": "display_data"
    }
   ],
   "source": [
    "df_target['publish_datetime'] = pd.to_datetime(df_target['publish_datetime'])\n",
    "\n",
    "plt.figure()\n",
    "df_target['publish_datetime'].dt.hour.hist(bins=24)\n",
    "plt.xticks([i for i in range(24) if i % 3 == 0])\n",
    "plt.xlabel('hour')\n",
    "plt.title('published num in each hour')"
   ]
  },
  {
   "cell_type": "markdown",
   "metadata": {},
   "source": [
    "感覚的に既知の事実ではあるもしれない15時以降に記事に公表されてることが多い。  \n",
    "時間外取引を除けば、一般的な取引時間は9:00～15:00である為、終値とニュースを関連付けは注意が必要。  \n",
    "※15:00以降に公表されたニュースと当日中の終値を関連付けてはいけない。  \n",
    "今回は15:00以降に公表されたニュースは翌日の終値と関連付けることにする。  \n",
    "※本来は取引との兼ね合いから14:30～14:55？位を境にすべきと思われる。  \n",
    "公表時間毎で市場へのインパクトが異なるかも見てみると面白いのかもしれない(今回は検証しない)"
   ]
  },
  {
   "cell_type": "code",
   "execution_count": 11,
   "metadata": {},
   "outputs": [
    {
     "data": {
      "text/html": [
       "<div>\n",
       "<style scoped>\n",
       "    .dataframe tbody tr th:only-of-type {\n",
       "        vertical-align: middle;\n",
       "    }\n",
       "\n",
       "    .dataframe tbody tr th {\n",
       "        vertical-align: top;\n",
       "    }\n",
       "\n",
       "    .dataframe thead th {\n",
       "        text-align: right;\n",
       "    }\n",
       "</style>\n",
       "<table border=\"1\" class=\"dataframe\">\n",
       "  <thead>\n",
       "    <tr style=\"text-align: right;\">\n",
       "      <th></th>\n",
       "      <th>Local Code</th>\n",
       "      <th>EndOfDayQuote Open</th>\n",
       "      <th>EndOfDayQuote High</th>\n",
       "      <th>EndOfDayQuote Low</th>\n",
       "      <th>EndOfDayQuote Close</th>\n",
       "      <th>EndOfDayQuote ExchangeOfficialClose</th>\n",
       "      <th>EndOfDayQuote Volume</th>\n",
       "      <th>EndOfDayQuote CumulativeAdjustmentFactor</th>\n",
       "      <th>EndOfDayQuote PreviousClose</th>\n",
       "      <th>EndOfDayQuote PreviousCloseDate</th>\n",
       "      <th>EndOfDayQuote PreviousExchangeOfficialClose</th>\n",
       "      <th>EndOfDayQuote PreviousExchangeOfficialCloseDate</th>\n",
       "      <th>EndOfDayQuote ChangeFromPreviousClose</th>\n",
       "      <th>EndOfDayQuote PercentChangeFromPreviousClose</th>\n",
       "      <th>EndOfDayQuote VWAP</th>\n",
       "    </tr>\n",
       "    <tr>\n",
       "      <th>EndOfDayQuote Date</th>\n",
       "      <th></th>\n",
       "      <th></th>\n",
       "      <th></th>\n",
       "      <th></th>\n",
       "      <th></th>\n",
       "      <th></th>\n",
       "      <th></th>\n",
       "      <th></th>\n",
       "      <th></th>\n",
       "      <th></th>\n",
       "      <th></th>\n",
       "      <th></th>\n",
       "      <th></th>\n",
       "      <th></th>\n",
       "      <th></th>\n",
       "    </tr>\n",
       "  </thead>\n",
       "  <tbody>\n",
       "    <tr>\n",
       "      <th>2016-01-04</th>\n",
       "      <td>1301</td>\n",
       "      <td>2800.0</td>\n",
       "      <td>2820.0</td>\n",
       "      <td>2740.0</td>\n",
       "      <td>2750.0</td>\n",
       "      <td>2750.0</td>\n",
       "      <td>32000.0</td>\n",
       "      <td>0.1</td>\n",
       "      <td>2770.0</td>\n",
       "      <td>2015/12/30</td>\n",
       "      <td>2770.0</td>\n",
       "      <td>2015/12/30</td>\n",
       "      <td>-20.0</td>\n",
       "      <td>-0.722</td>\n",
       "      <td>2778.250</td>\n",
       "    </tr>\n",
       "    <tr>\n",
       "      <th>2016-01-05</th>\n",
       "      <td>1301</td>\n",
       "      <td>2750.0</td>\n",
       "      <td>2780.0</td>\n",
       "      <td>2750.0</td>\n",
       "      <td>2760.0</td>\n",
       "      <td>2760.0</td>\n",
       "      <td>20100.0</td>\n",
       "      <td>0.1</td>\n",
       "      <td>2750.0</td>\n",
       "      <td>2016/01/04</td>\n",
       "      <td>2750.0</td>\n",
       "      <td>2016/01/04</td>\n",
       "      <td>10.0</td>\n",
       "      <td>0.364</td>\n",
       "      <td>2761.990</td>\n",
       "    </tr>\n",
       "    <tr>\n",
       "      <th>2016-01-06</th>\n",
       "      <td>1301</td>\n",
       "      <td>2760.0</td>\n",
       "      <td>2770.0</td>\n",
       "      <td>2740.0</td>\n",
       "      <td>2760.0</td>\n",
       "      <td>2760.0</td>\n",
       "      <td>15000.0</td>\n",
       "      <td>0.1</td>\n",
       "      <td>2760.0</td>\n",
       "      <td>2016/01/05</td>\n",
       "      <td>2760.0</td>\n",
       "      <td>2016/01/05</td>\n",
       "      <td>0.0</td>\n",
       "      <td>0.000</td>\n",
       "      <td>2758.867</td>\n",
       "    </tr>\n",
       "  </tbody>\n",
       "</table>\n",
       "</div>"
      ],
      "text/plain": [
       "                    Local Code  EndOfDayQuote Open  EndOfDayQuote High  \\\n",
       "EndOfDayQuote Date                                                       \n",
       "2016-01-04                1301              2800.0              2820.0   \n",
       "2016-01-05                1301              2750.0              2780.0   \n",
       "2016-01-06                1301              2760.0              2770.0   \n",
       "\n",
       "                    EndOfDayQuote Low  EndOfDayQuote Close  \\\n",
       "EndOfDayQuote Date                                           \n",
       "2016-01-04                     2740.0               2750.0   \n",
       "2016-01-05                     2750.0               2760.0   \n",
       "2016-01-06                     2740.0               2760.0   \n",
       "\n",
       "                    EndOfDayQuote ExchangeOfficialClose  EndOfDayQuote Volume  \\\n",
       "EndOfDayQuote Date                                                              \n",
       "2016-01-04                                       2750.0               32000.0   \n",
       "2016-01-05                                       2760.0               20100.0   \n",
       "2016-01-06                                       2760.0               15000.0   \n",
       "\n",
       "                    EndOfDayQuote CumulativeAdjustmentFactor  \\\n",
       "EndOfDayQuote Date                                             \n",
       "2016-01-04                                               0.1   \n",
       "2016-01-05                                               0.1   \n",
       "2016-01-06                                               0.1   \n",
       "\n",
       "                    EndOfDayQuote PreviousClose  \\\n",
       "EndOfDayQuote Date                                \n",
       "2016-01-04                               2770.0   \n",
       "2016-01-05                               2750.0   \n",
       "2016-01-06                               2760.0   \n",
       "\n",
       "                   EndOfDayQuote PreviousCloseDate  \\\n",
       "EndOfDayQuote Date                                   \n",
       "2016-01-04                              2015/12/30   \n",
       "2016-01-05                              2016/01/04   \n",
       "2016-01-06                              2016/01/05   \n",
       "\n",
       "                    EndOfDayQuote PreviousExchangeOfficialClose  \\\n",
       "EndOfDayQuote Date                                                \n",
       "2016-01-04                                               2770.0   \n",
       "2016-01-05                                               2750.0   \n",
       "2016-01-06                                               2760.0   \n",
       "\n",
       "                   EndOfDayQuote PreviousExchangeOfficialCloseDate  \\\n",
       "EndOfDayQuote Date                                                   \n",
       "2016-01-04                                              2015/12/30   \n",
       "2016-01-05                                              2016/01/04   \n",
       "2016-01-06                                              2016/01/05   \n",
       "\n",
       "                    EndOfDayQuote ChangeFromPreviousClose  \\\n",
       "EndOfDayQuote Date                                          \n",
       "2016-01-04                                          -20.0   \n",
       "2016-01-05                                           10.0   \n",
       "2016-01-06                                            0.0   \n",
       "\n",
       "                    EndOfDayQuote PercentChangeFromPreviousClose  \\\n",
       "EndOfDayQuote Date                                                 \n",
       "2016-01-04                                                -0.722   \n",
       "2016-01-05                                                 0.364   \n",
       "2016-01-06                                                 0.000   \n",
       "\n",
       "                    EndOfDayQuote VWAP  \n",
       "EndOfDayQuote Date                      \n",
       "2016-01-04                    2778.250  \n",
       "2016-01-05                    2761.990  \n",
       "2016-01-06                    2758.867  "
      ]
     },
     "execution_count": 11,
     "metadata": {},
     "output_type": "execute_result"
    }
   ],
   "source": [
    "df_price = pd.read_csv('../data/stock_price.csv.gz', index_col='EndOfDayQuote Date', parse_dates=['EndOfDayQuote Date'])\n",
    "df_price.head(3)"
   ]
  },
  {
   "cell_type": "code",
   "execution_count": 12,
   "metadata": {},
   "outputs": [],
   "source": [
    "# 日付修正処理\n",
    "def convert_datetime(t):\n",
    "    '''\n",
    "    時刻が15時より後の場合は翌営業日の15:00に変換。それ以外は、時刻部分を15:00に変換。\n",
    "    '''\n",
    "    t_ret = t.replace(hour=15, minute=0, second=0)\n",
    "    \n",
    "    if t.time() > datetime.time(15, 0, 0):\n",
    "        t_ret = t_ret + pd.offsets.BDay(1)\n",
    "    \n",
    "    return t_ret\n",
    "\n",
    "df_target['publish_datetime'] = df_target['publish_datetime'].apply(convert_datetime)"
   ]
  },
  {
   "cell_type": "code",
   "execution_count": 13,
   "metadata": {},
   "outputs": [
    {
     "data": {
      "text/plain": [
       "0"
      ]
     },
     "execution_count": 13,
     "metadata": {},
     "output_type": "execute_result"
    }
   ],
   "source": [
    "# Check\n",
    "(df_target['publish_datetime'].dt.hour != 15).sum()"
   ]
  },
  {
   "cell_type": "code",
   "execution_count": 14,
   "metadata": {
    "scrolled": true
   },
   "outputs": [
    {
     "data": {
      "text/html": [
       "<div>\n",
       "<style scoped>\n",
       "    .dataframe tbody tr th:only-of-type {\n",
       "        vertical-align: middle;\n",
       "    }\n",
       "\n",
       "    .dataframe tbody tr th {\n",
       "        vertical-align: top;\n",
       "    }\n",
       "\n",
       "    .dataframe thead th {\n",
       "        text-align: right;\n",
       "    }\n",
       "</style>\n",
       "<table border=\"1\" class=\"dataframe\">\n",
       "  <thead>\n",
       "    <tr style=\"text-align: right;\">\n",
       "      <th></th>\n",
       "      <th>article_id</th>\n",
       "      <th>publish_datetime</th>\n",
       "      <th>media_code</th>\n",
       "      <th>media_name</th>\n",
       "      <th>men_name</th>\n",
       "      <th>page_from</th>\n",
       "      <th>picture_flag</th>\n",
       "      <th>paragraph_cnt</th>\n",
       "      <th>char_length</th>\n",
       "      <th>headline</th>\n",
       "      <th>keywords</th>\n",
       "      <th>classifications</th>\n",
       "      <th>company_g.stock_code</th>\n",
       "    </tr>\n",
       "  </thead>\n",
       "  <tbody>\n",
       "    <tr>\n",
       "      <th>10</th>\n",
       "      <td>TDSKDBDGXMZO5400542031122019NN1000</td>\n",
       "      <td>2020-01-01 15:00:00+09:00</td>\n",
       "      <td>TNY</td>\n",
       "      <td>日本経済新聞電子版</td>\n",
       "      <td>NaN</td>\n",
       "      <td>NaN</td>\n",
       "      <td>1.0</td>\n",
       "      <td>19</td>\n",
       "      <td>1778</td>\n",
       "      <td>ゴーン元会長、周到な不意打ち出国　司法批判の声明</td>\n",
       "      <td>カルロス・ゴーン\\n日産自動車\\nグレッグ・ケリー\\n弘中惇一郎\\nＭｕｓｉｃＴｅｌｅｖｉｓ...</td>\n",
       "      <td>＄絵写表記事\\nＴ７２０１\\nＰＤ２７１\\nＮ０００１３５１\\nＮ００４４３７１\\n＃Ｗ５０...</td>\n",
       "      <td>7201</td>\n",
       "    </tr>\n",
       "  </tbody>\n",
       "</table>\n",
       "</div>"
      ],
      "text/plain": [
       "                            article_id          publish_datetime media_code  \\\n",
       "10  TDSKDBDGXMZO5400542031122019NN1000 2020-01-01 15:00:00+09:00        TNY   \n",
       "\n",
       "   media_name  men_name  page_from  picture_flag  paragraph_cnt  char_length  \\\n",
       "10  日本経済新聞電子版       NaN        NaN           1.0             19         1778   \n",
       "\n",
       "                    headline  \\\n",
       "10  ゴーン元会長、周到な不意打ち出国　司法批判の声明   \n",
       "\n",
       "                                             keywords  \\\n",
       "10  カルロス・ゴーン\\n日産自動車\\nグレッグ・ケリー\\n弘中惇一郎\\nＭｕｓｉｃＴｅｌｅｖｉｓ...   \n",
       "\n",
       "                                      classifications company_g.stock_code  \n",
       "10  ＄絵写表記事\\nＴ７２０１\\nＰＤ２７１\\nＮ０００１３５１\\nＮ００４４３７１\\n＃Ｗ５０...                 7201  "
      ]
     },
     "execution_count": 14,
     "metadata": {},
     "output_type": "execute_result"
    }
   ],
   "source": [
    "df_target.head(1)"
   ]
  },
  {
   "cell_type": "code",
   "execution_count": 15,
   "metadata": {
    "scrolled": true
   },
   "outputs": [],
   "source": [
    "returns = {'1days':[], '5days':[], '20days':[]}\n",
    "for i in df_target.index:\n",
    "    # 対象銘柄の価格情報\n",
    "    df_price_one_code = df_price[df_price['Local Code'] == int(df_target['company_g.stock_code'][i])]\n",
    "\n",
    "    # ニュース公表日以降を取り出し\n",
    "    mask = df_price_one_code.index >= pd.to_datetime(df_target['publish_datetime'][i].date())\n",
    "    df_price_one_code = df_price_one_code[mask]\n",
    "\n",
    "    # 各リターンを格納する\n",
    "    for key, num in zip(returns.keys(), [1, 5, 20]):\n",
    "        try:\n",
    "            returns[key].append(df_price_one_code['EndOfDayQuote ExchangeOfficialClose'].pct_change(num).dropna()[0])\n",
    "        except:\n",
    "            returns[key].append(np.nan)"
   ]
  },
  {
   "cell_type": "code",
   "execution_count": 16,
   "metadata": {
    "scrolled": true
   },
   "outputs": [],
   "source": [
    "df_target['1days_R'] = returns['1days']\n",
    "df_target['5days_R'] = returns['5days']\n",
    "df_target['20days_R'] = returns['20days']"
   ]
  },
  {
   "cell_type": "code",
   "execution_count": 17,
   "metadata": {
    "scrolled": true
   },
   "outputs": [
    {
     "data": {
      "text/html": [
       "<div>\n",
       "<style scoped>\n",
       "    .dataframe tbody tr th:only-of-type {\n",
       "        vertical-align: middle;\n",
       "    }\n",
       "\n",
       "    .dataframe tbody tr th {\n",
       "        vertical-align: top;\n",
       "    }\n",
       "\n",
       "    .dataframe thead th {\n",
       "        text-align: right;\n",
       "    }\n",
       "</style>\n",
       "<table border=\"1\" class=\"dataframe\">\n",
       "  <thead>\n",
       "    <tr style=\"text-align: right;\">\n",
       "      <th></th>\n",
       "      <th>article_id</th>\n",
       "      <th>publish_datetime</th>\n",
       "      <th>media_code</th>\n",
       "      <th>media_name</th>\n",
       "      <th>men_name</th>\n",
       "      <th>page_from</th>\n",
       "      <th>picture_flag</th>\n",
       "      <th>paragraph_cnt</th>\n",
       "      <th>char_length</th>\n",
       "      <th>headline</th>\n",
       "      <th>keywords</th>\n",
       "      <th>classifications</th>\n",
       "      <th>company_g.stock_code</th>\n",
       "      <th>1days_R</th>\n",
       "      <th>5days_R</th>\n",
       "      <th>20days_R</th>\n",
       "    </tr>\n",
       "  </thead>\n",
       "  <tbody>\n",
       "    <tr>\n",
       "      <th>10</th>\n",
       "      <td>TDSKDBDGXMZO5400542031122019NN1000</td>\n",
       "      <td>2020-01-01 15:00:00+09:00</td>\n",
       "      <td>TNY</td>\n",
       "      <td>日本経済新聞電子版</td>\n",
       "      <td>NaN</td>\n",
       "      <td>NaN</td>\n",
       "      <td>1.0</td>\n",
       "      <td>19</td>\n",
       "      <td>1778</td>\n",
       "      <td>ゴーン元会長、周到な不意打ち出国　司法批判の声明</td>\n",
       "      <td>カルロス・ゴーン\\n日産自動車\\nグレッグ・ケリー\\n弘中惇一郎\\nＭｕｓｉｃＴｅｌｅｖｉｓ...</td>\n",
       "      <td>＄絵写表記事\\nＴ７２０１\\nＰＤ２７１\\nＮ０００１３５１\\nＮ００４４３７１\\n＃Ｗ５０...</td>\n",
       "      <td>7201</td>\n",
       "      <td>0.017586</td>\n",
       "      <td>-0.011990</td>\n",
       "      <td>-0.060592</td>\n",
       "    </tr>\n",
       "    <tr>\n",
       "      <th>19</th>\n",
       "      <td>TDSKDBDGXMZO5387164027122019L41000</td>\n",
       "      <td>2020-01-01 15:00:00+09:00</td>\n",
       "      <td>TNY</td>\n",
       "      <td>日本経済新聞電子版</td>\n",
       "      <td>NaN</td>\n",
       "      <td>NaN</td>\n",
       "      <td>1.0</td>\n",
       "      <td>12</td>\n",
       "      <td>1347</td>\n",
       "      <td>地銀が変わる、始まったマニュアルなき大競争</td>\n",
       "      <td>金融検査マニュアル\\nマニュアル\\n笹原晶博\\n安田光春\\n金融機関\\n銀行\\n地方銀行\\n...</td>\n",
       "      <td>＄絵写表記事\\nＴ８５２４\\nＰＤ４７３\\nＮ００７００１７\\nＮ００７００８７\\n＃Ｗ２０...</td>\n",
       "      <td>8524</td>\n",
       "      <td>0.008439</td>\n",
       "      <td>-0.046414</td>\n",
       "      <td>-0.067511</td>\n",
       "    </tr>\n",
       "    <tr>\n",
       "      <th>22</th>\n",
       "      <td>TDSKDBDGXKZO5400896001012020MM8000</td>\n",
       "      <td>2020-01-01 15:00:00+09:00</td>\n",
       "      <td>TNY</td>\n",
       "      <td>日本経済新聞電子版</td>\n",
       "      <td>NaN</td>\n",
       "      <td>NaN</td>\n",
       "      <td>0.0</td>\n",
       "      <td>4</td>\n",
       "      <td>569</td>\n",
       "      <td>元日付のこういうコラムは、ふつうなら来し方行く末に思いをはせ、まずは新年をことほぐものである...</td>\n",
       "      <td>春秋\\nカルロス・ゴーン\\nコラム\\n来し方行く末\\n思い\\n日付\\n新年</td>\n",
       "      <td>「春秋」\\n＊春秋\\nＴ７２０１\\nＰＤ２７１\\nＮ０００１３５１\\n＃Ｗ５０３０５\\n＃Ｗ...</td>\n",
       "      <td>7201</td>\n",
       "      <td>0.017586</td>\n",
       "      <td>-0.011990</td>\n",
       "      <td>-0.060592</td>\n",
       "    </tr>\n",
       "  </tbody>\n",
       "</table>\n",
       "</div>"
      ],
      "text/plain": [
       "                            article_id          publish_datetime media_code  \\\n",
       "10  TDSKDBDGXMZO5400542031122019NN1000 2020-01-01 15:00:00+09:00        TNY   \n",
       "19  TDSKDBDGXMZO5387164027122019L41000 2020-01-01 15:00:00+09:00        TNY   \n",
       "22  TDSKDBDGXKZO5400896001012020MM8000 2020-01-01 15:00:00+09:00        TNY   \n",
       "\n",
       "   media_name  men_name  page_from  picture_flag  paragraph_cnt  char_length  \\\n",
       "10  日本経済新聞電子版       NaN        NaN           1.0             19         1778   \n",
       "19  日本経済新聞電子版       NaN        NaN           1.0             12         1347   \n",
       "22  日本経済新聞電子版       NaN        NaN           0.0              4          569   \n",
       "\n",
       "                                             headline  \\\n",
       "10                           ゴーン元会長、周到な不意打ち出国　司法批判の声明   \n",
       "19                              地銀が変わる、始まったマニュアルなき大競争   \n",
       "22  元日付のこういうコラムは、ふつうなら来し方行く末に思いをはせ、まずは新年をことほぐものである...   \n",
       "\n",
       "                                             keywords  \\\n",
       "10  カルロス・ゴーン\\n日産自動車\\nグレッグ・ケリー\\n弘中惇一郎\\nＭｕｓｉｃＴｅｌｅｖｉｓ...   \n",
       "19  金融検査マニュアル\\nマニュアル\\n笹原晶博\\n安田光春\\n金融機関\\n銀行\\n地方銀行\\n...   \n",
       "22              春秋\\nカルロス・ゴーン\\nコラム\\n来し方行く末\\n思い\\n日付\\n新年   \n",
       "\n",
       "                                      classifications company_g.stock_code  \\\n",
       "10  ＄絵写表記事\\nＴ７２０１\\nＰＤ２７１\\nＮ０００１３５１\\nＮ００４４３７１\\n＃Ｗ５０...                 7201   \n",
       "19  ＄絵写表記事\\nＴ８５２４\\nＰＤ４７３\\nＮ００７００１７\\nＮ００７００８７\\n＃Ｗ２０...                 8524   \n",
       "22  「春秋」\\n＊春秋\\nＴ７２０１\\nＰＤ２７１\\nＮ０００１３５１\\n＃Ｗ５０３０５\\n＃Ｗ...                 7201   \n",
       "\n",
       "     1days_R   5days_R  20days_R  \n",
       "10  0.017586 -0.011990 -0.060592  \n",
       "19  0.008439 -0.046414 -0.067511  \n",
       "22  0.017586 -0.011990 -0.060592  "
      ]
     },
     "execution_count": 17,
     "metadata": {},
     "output_type": "execute_result"
    }
   ],
   "source": [
    "df_target.head(3)"
   ]
  },
  {
   "cell_type": "code",
   "execution_count": 18,
   "metadata": {
    "scrolled": false
   },
   "outputs": [
    {
     "data": {
      "text/plain": [
       "Text(0.5, 0, 'picture_flag')"
      ]
     },
     "execution_count": 18,
     "metadata": {},
     "output_type": "execute_result"
    },
    {
     "data": {
      "image/png": "[encoded data removed]",
      "text/plain": [
       "<Figure size 1152x288 with 3 Axes>"
      ]
     },
     "metadata": {
      "needs_background": "light"
     },
     "output_type": "display_data"
    }
   ],
   "source": [
    "# 散布図\n",
    "plt.figure(figsize=(16, 4))\n",
    "plt.subplot(1, 3, 1)\n",
    "plt.scatter(x=df_target['picture_flag'], y=df_target['1days_R'])\n",
    "plt.ylabel('1days_R')\n",
    "plt.xlabel('picture_flag')\n",
    "\n",
    "plt.subplot(1, 3, 2)\n",
    "plt.scatter(x=df_target['picture_flag'], y=df_target['5days_R'])\n",
    "plt.ylabel('5days_R')\n",
    "plt.xlabel('picture_flag')\n",
    "\n",
    "plt.subplot(1, 3, 3)\n",
    "plt.scatter(x=df_target['picture_flag'], y=df_target['20days_R'])\n",
    "plt.ylabel('20days_R')\n",
    "plt.xlabel('picture_flag')"
   ]
  },
  {
   "cell_type": "markdown",
   "metadata": {},
   "source": [
    "リターンが-1.0となっている銘柄がある。  \n",
    "⇒ 確認したところ、ニュース公表時(リターンの計算時点)の株価が0(価格が決定されない)となっていた。  \n",
    "⇒　これらの銘柄は除外することにする。"
   ]
  },
  {
   "cell_type": "code",
   "execution_count": 19,
   "metadata": {},
   "outputs": [],
   "source": [
    "# 確認用\n",
    "#df_target[df_target['1days_R'] == -1]\n",
    "#df_price_one_code = df_price[df_price['Local Code'] == 9829]\n",
    "#mask = df_price_one_code.index > pd.to_datetime('2020/01/21')\n",
    "#df_price_one_code[mask]"
   ]
  },
  {
   "cell_type": "code",
   "execution_count": 20,
   "metadata": {},
   "outputs": [],
   "source": [
    "# リターンが-1とnp.nanは除外\n",
    "df_target = df_target[(df_target['1days_R'] != -1) & (df_target['5days_R'] != -1) & (df_target['20days_R'] != -1)]\n",
    "df_target.dropna(subset=['1days_R', '5days_R', '20days_R'], inplace=True)"
   ]
  },
  {
   "cell_type": "code",
   "execution_count": 21,
   "metadata": {},
   "outputs": [
    {
     "data": {
      "text/plain": [
       "Text(0.5, 0, 'picture_flag')"
      ]
     },
     "execution_count": 21,
     "metadata": {},
     "output_type": "execute_result"
    },
    {
     "data": {
      "image/png": "[encoded data removed]",
      "text/plain": [
       "<Figure size 1152x288 with 3 Axes>"
      ]
     },
     "metadata": {
      "needs_background": "light"
     },
     "output_type": "display_data"
    }
   ],
   "source": [
    "# 散布図\n",
    "plt.figure(figsize=(16, 4))\n",
    "plt.subplot(1, 3, 1)\n",
    "plt.scatter(x=df_target['picture_flag'], y=df_target['1days_R'])\n",
    "plt.ylabel('1days_R')\n",
    "plt.xlabel('picture_flag')\n",
    "\n",
    "plt.subplot(1, 3, 2)\n",
    "plt.scatter(x=df_target['picture_flag'], y=df_target['5days_R'])\n",
    "plt.ylabel('5days_R')\n",
    "plt.xlabel('picture_flag')\n",
    "\n",
    "plt.subplot(1, 3, 3)\n",
    "plt.scatter(x=df_target['picture_flag'], y=df_target['20days_R'])\n",
    "plt.ylabel('20days_R')\n",
    "plt.xlabel('picture_flag')"
   ]
  },
  {
   "cell_type": "code",
   "execution_count": 22,
   "metadata": {
    "scrolled": true
   },
   "outputs": [
    {
     "data": {
      "text/html": [
       "<div>\n",
       "<style scoped>\n",
       "    .dataframe tbody tr th:only-of-type {\n",
       "        vertical-align: middle;\n",
       "    }\n",
       "\n",
       "    .dataframe tbody tr th {\n",
       "        vertical-align: top;\n",
       "    }\n",
       "\n",
       "    .dataframe thead th {\n",
       "        text-align: right;\n",
       "    }\n",
       "</style>\n",
       "<table border=\"1\" class=\"dataframe\">\n",
       "  <thead>\n",
       "    <tr style=\"text-align: right;\">\n",
       "      <th></th>\n",
       "      <th>article_id</th>\n",
       "      <th>publish_datetime</th>\n",
       "      <th>media_code</th>\n",
       "      <th>media_name</th>\n",
       "      <th>men_name</th>\n",
       "      <th>page_from</th>\n",
       "      <th>picture_flag</th>\n",
       "      <th>paragraph_cnt</th>\n",
       "      <th>char_length</th>\n",
       "      <th>headline</th>\n",
       "      <th>keywords</th>\n",
       "      <th>classifications</th>\n",
       "      <th>company_g.stock_code</th>\n",
       "      <th>1days_R</th>\n",
       "      <th>5days_R</th>\n",
       "      <th>20days_R</th>\n",
       "    </tr>\n",
       "  </thead>\n",
       "  <tbody>\n",
       "    <tr>\n",
       "      <th>10</th>\n",
       "      <td>TDSKDBDGXMZO5400542031122019NN1000</td>\n",
       "      <td>2020-01-01 15:00:00+09:00</td>\n",
       "      <td>TNY</td>\n",
       "      <td>日本経済新聞電子版</td>\n",
       "      <td>NaN</td>\n",
       "      <td>NaN</td>\n",
       "      <td>1.0</td>\n",
       "      <td>19</td>\n",
       "      <td>1778</td>\n",
       "      <td>ゴーン元会長、周到な不意打ち出国　司法批判の声明</td>\n",
       "      <td>カルロス・ゴーン\\n日産自動車\\nグレッグ・ケリー\\n弘中惇一郎\\nＭｕｓｉｃＴｅｌｅｖｉｓ...</td>\n",
       "      <td>＄絵写表記事\\nＴ７２０１\\nＰＤ２７１\\nＮ０００１３５１\\nＮ００４４３７１\\n＃Ｗ５０...</td>\n",
       "      <td>7201</td>\n",
       "      <td>0.017586</td>\n",
       "      <td>-0.011990</td>\n",
       "      <td>-0.060592</td>\n",
       "    </tr>\n",
       "    <tr>\n",
       "      <th>19</th>\n",
       "      <td>TDSKDBDGXMZO5387164027122019L41000</td>\n",
       "      <td>2020-01-01 15:00:00+09:00</td>\n",
       "      <td>TNY</td>\n",
       "      <td>日本経済新聞電子版</td>\n",
       "      <td>NaN</td>\n",
       "      <td>NaN</td>\n",
       "      <td>1.0</td>\n",
       "      <td>12</td>\n",
       "      <td>1347</td>\n",
       "      <td>地銀が変わる、始まったマニュアルなき大競争</td>\n",
       "      <td>金融検査マニュアル\\nマニュアル\\n笹原晶博\\n安田光春\\n金融機関\\n銀行\\n地方銀行\\n...</td>\n",
       "      <td>＄絵写表記事\\nＴ８５２４\\nＰＤ４７３\\nＮ００７００１７\\nＮ００７００８７\\n＃Ｗ２０...</td>\n",
       "      <td>8524</td>\n",
       "      <td>0.008439</td>\n",
       "      <td>-0.046414</td>\n",
       "      <td>-0.067511</td>\n",
       "    </tr>\n",
       "    <tr>\n",
       "      <th>22</th>\n",
       "      <td>TDSKDBDGXKZO5400896001012020MM8000</td>\n",
       "      <td>2020-01-01 15:00:00+09:00</td>\n",
       "      <td>TNY</td>\n",
       "      <td>日本経済新聞電子版</td>\n",
       "      <td>NaN</td>\n",
       "      <td>NaN</td>\n",
       "      <td>0.0</td>\n",
       "      <td>4</td>\n",
       "      <td>569</td>\n",
       "      <td>元日付のこういうコラムは、ふつうなら来し方行く末に思いをはせ、まずは新年をことほぐものである...</td>\n",
       "      <td>春秋\\nカルロス・ゴーン\\nコラム\\n来し方行く末\\n思い\\n日付\\n新年</td>\n",
       "      <td>「春秋」\\n＊春秋\\nＴ７２０１\\nＰＤ２７１\\nＮ０００１３５１\\n＃Ｗ５０３０５\\n＃Ｗ...</td>\n",
       "      <td>7201</td>\n",
       "      <td>0.017586</td>\n",
       "      <td>-0.011990</td>\n",
       "      <td>-0.060592</td>\n",
       "    </tr>\n",
       "    <tr>\n",
       "      <th>26</th>\n",
       "      <td>TDSKDBDGXMZO5345668017122019000000</td>\n",
       "      <td>2020-01-01 15:00:00+09:00</td>\n",
       "      <td>TNY</td>\n",
       "      <td>日本経済新聞電子版</td>\n",
       "      <td>NaN</td>\n",
       "      <td>NaN</td>\n",
       "      <td>1.0</td>\n",
       "      <td>29</td>\n",
       "      <td>3109</td>\n",
       "      <td>Googleの最新AI、読解力も人間超え　驚異の学習法\\n超人間・万能AI（上）</td>\n",
       "      <td>中田敦\\nストックマーク\\nグーグル\\nＢＥＲＴ\\nＡＩ\\nＮＩＩ\\nロボット\\n言語モデル...</td>\n",
       "      <td>＄絵写表記事\\nＴ９４３２\\nＰＤ６５１\\nＮ００１５００６</td>\n",
       "      <td>9432</td>\n",
       "      <td>0.013469</td>\n",
       "      <td>0.016382</td>\n",
       "      <td>0.012013</td>\n",
       "    </tr>\n",
       "    <tr>\n",
       "      <th>30</th>\n",
       "      <td>TDSKDBDGXMZO5368986023122019L60000</td>\n",
       "      <td>2020-01-01 15:00:00+09:00</td>\n",
       "      <td>TNY</td>\n",
       "      <td>日本経済新聞電子版</td>\n",
       "      <td>NaN</td>\n",
       "      <td>NaN</td>\n",
       "      <td>1.0</td>\n",
       "      <td>17</td>\n",
       "      <td>1429</td>\n",
       "      <td>日光、国際リゾート地に　リッツ・カールトン5月開業\\n注目施設2020(1)</td>\n",
       "      <td>インタビュー\\nザ・リッツ・カールトン日光\\nザ・リッツ・カールトン\\nマリオット・インター...</td>\n",
       "      <td>＄絵写表記事\\nＴ９００１\\nＰＤ５５１\\nＮ０００１８３１\\n＃Ｋ６\\n＃Ａ４０８\\n＃Ａ...</td>\n",
       "      <td>9001</td>\n",
       "      <td>0.026992</td>\n",
       "      <td>0.021851</td>\n",
       "      <td>-0.003856</td>\n",
       "    </tr>\n",
       "  </tbody>\n",
       "</table>\n",
       "</div>"
      ],
      "text/plain": [
       "                            article_id          publish_datetime media_code  \\\n",
       "10  TDSKDBDGXMZO5400542031122019NN1000 2020-01-01 15:00:00+09:00        TNY   \n",
       "19  TDSKDBDGXMZO5387164027122019L41000 2020-01-01 15:00:00+09:00        TNY   \n",
       "22  TDSKDBDGXKZO5400896001012020MM8000 2020-01-01 15:00:00+09:00        TNY   \n",
       "26  TDSKDBDGXMZO5345668017122019000000 2020-01-01 15:00:00+09:00        TNY   \n",
       "30  TDSKDBDGXMZO5368986023122019L60000 2020-01-01 15:00:00+09:00        TNY   \n",
       "\n",
       "   media_name  men_name  page_from  picture_flag  paragraph_cnt  char_length  \\\n",
       "10  日本経済新聞電子版       NaN        NaN           1.0             19         1778   \n",
       "19  日本経済新聞電子版       NaN        NaN           1.0             12         1347   \n",
       "22  日本経済新聞電子版       NaN        NaN           0.0              4          569   \n",
       "26  日本経済新聞電子版       NaN        NaN           1.0             29         3109   \n",
       "30  日本経済新聞電子版       NaN        NaN           1.0             17         1429   \n",
       "\n",
       "                                             headline  \\\n",
       "10                           ゴーン元会長、周到な不意打ち出国　司法批判の声明   \n",
       "19                              地銀が変わる、始まったマニュアルなき大競争   \n",
       "22  元日付のこういうコラムは、ふつうなら来し方行く末に思いをはせ、まずは新年をことほぐものである...   \n",
       "26           Googleの最新AI、読解力も人間超え　驚異の学習法\\n超人間・万能AI（上）   \n",
       "30             日光、国際リゾート地に　リッツ・カールトン5月開業\\n注目施設2020(1)   \n",
       "\n",
       "                                             keywords  \\\n",
       "10  カルロス・ゴーン\\n日産自動車\\nグレッグ・ケリー\\n弘中惇一郎\\nＭｕｓｉｃＴｅｌｅｖｉｓ...   \n",
       "19  金融検査マニュアル\\nマニュアル\\n笹原晶博\\n安田光春\\n金融機関\\n銀行\\n地方銀行\\n...   \n",
       "22              春秋\\nカルロス・ゴーン\\nコラム\\n来し方行く末\\n思い\\n日付\\n新年   \n",
       "26  中田敦\\nストックマーク\\nグーグル\\nＢＥＲＴ\\nＡＩ\\nＮＩＩ\\nロボット\\n言語モデル...   \n",
       "30  インタビュー\\nザ・リッツ・カールトン日光\\nザ・リッツ・カールトン\\nマリオット・インター...   \n",
       "\n",
       "                                      classifications company_g.stock_code  \\\n",
       "10  ＄絵写表記事\\nＴ７２０１\\nＰＤ２７１\\nＮ０００１３５１\\nＮ００４４３７１\\n＃Ｗ５０...                 7201   \n",
       "19  ＄絵写表記事\\nＴ８５２４\\nＰＤ４７３\\nＮ００７００１７\\nＮ００７００８７\\n＃Ｗ２０...                 8524   \n",
       "22  「春秋」\\n＊春秋\\nＴ７２０１\\nＰＤ２７１\\nＮ０００１３５１\\n＃Ｗ５０３０５\\n＃Ｗ...                 7201   \n",
       "26                     ＄絵写表記事\\nＴ９４３２\\nＰＤ６５１\\nＮ００１５００６                 9432   \n",
       "30  ＄絵写表記事\\nＴ９００１\\nＰＤ５５１\\nＮ０００１８３１\\n＃Ｋ６\\n＃Ａ４０８\\n＃Ａ...                 9001   \n",
       "\n",
       "     1days_R   5days_R  20days_R  \n",
       "10  0.017586 -0.011990 -0.060592  \n",
       "19  0.008439 -0.046414 -0.067511  \n",
       "22  0.017586 -0.011990 -0.060592  \n",
       "26  0.013469  0.016382  0.012013  \n",
       "30  0.026992  0.021851 -0.003856  "
      ]
     },
     "execution_count": 22,
     "metadata": {},
     "output_type": "execute_result"
    }
   ],
   "source": [
    "df_target.head()"
   ]
  },
  {
   "cell_type": "code",
   "execution_count": 23,
   "metadata": {},
   "outputs": [],
   "source": [
    "abs_returns = np.zeros((2, 3))\n",
    "pos_returns = np.zeros((2, 3))\n",
    "neg_returns = np.zeros((2, 3))\n",
    "\n",
    "for i in range(2):\n",
    "    df_i = df_target[df_target['picture_flag'] == i][['1days_R', '5days_R', '20days_R']].replace([np.inf, -np.inf], np.nan).dropna().copy()\n",
    "    abs_returns[i, :] = df_i.abs().mean().values\n",
    "    pos_returns[i, :] = df_i[df_i >= 0].mean(skipna=True).values\n",
    "    neg_returns[i, :] = df_i[df_i < 0].mean(skipna=True).values"
   ]
  },
  {
   "cell_type": "code",
   "execution_count": 24,
   "metadata": {},
   "outputs": [
    {
     "data": {
      "text/plain": [
       "<matplotlib.legend.Legend at 0x7f0a1ff93790>"
      ]
     },
     "execution_count": 24,
     "metadata": {},
     "output_type": "execute_result"
    },
    {
     "data": {
      "image/png": "[encoded data removed]",
      "text/plain": [
       "<Figure size 864x288 with 3 Axes>"
      ]
     },
     "metadata": {
      "needs_background": "light"
     },
     "output_type": "display_data"
    }
   ],
   "source": [
    "x = ['1days', '5days', '20days']\n",
    "\n",
    "plt.figure(figsize=(12, 4))\n",
    "plt.subplot(1, 3, 1)\n",
    "plt.bar(x, abs_returns[0], label='picture', color='r')\n",
    "plt.bar(x, abs_returns[1], label='no picture', color='b')\n",
    "plt.title('Absolute Return')\n",
    "plt.legend()\n",
    "\n",
    "plt.subplot(1, 3, 2)\n",
    "plt.bar(x, pos_returns[0], label='picture', color='r')\n",
    "plt.bar(x, pos_returns[1], label='no picture', color='b')\n",
    "plt.title('Positive Return')\n",
    "plt.legend()\n",
    "\n",
    "plt.subplot(1, 3, 3)\n",
    "plt.bar(x, neg_returns[0], label='picture', color='r')\n",
    "plt.bar(x, neg_returns[1], label='no picture', color='b')\n",
    "plt.title('Negative Return')\n",
    "plt.legend()"
   ]
  },
  {
   "cell_type": "markdown",
   "metadata": {},
   "source": [
    "pictureの有無でリターンに差がありそう  \n",
    "⇒「平均の差の検定」"
   ]
  },
  {
   "cell_type": "code",
   "execution_count": 29,
   "metadata": {},
   "outputs": [],
   "source": [
    "from scipy import stats\n",
    "t_stats = {}\n",
    "for i, days in enumerate(x):\n",
    "    df_0 = df_target[df_target['picture_flag'] == 0][f'{days}_R'].replace([np.inf, -np.inf], np.nan).dropna()\n",
    "    df_1 = df_target[df_target['picture_flag'] == 1][f'{days}_R'].replace([np.inf, -np.inf], np.nan).dropna()\n",
    "    \n",
    "    abs_return_0 = df_0.abs().values\n",
    "    abs_return_1 = df_1.abs().values\n",
    "    t, p = stats.ttest_ind(abs_return_0, abs_return_1, equal_var=False)\n",
    "    t_stats[('Absolute Return', days)] = p\n",
    "    \n",
    "    pos_return_0 = df_0[df_0 >= 0].values\n",
    "    pos_return_1 = df_1[df_1 >= 0].values\n",
    "    t, p = stats.ttest_ind(pos_return_0, pos_return_1, equal_var=False)\n",
    "    t_stats[('Positive Return', days)] = p\n",
    "    \n",
    "    neg_return_0 = df_0[df_0 < 0].values\n",
    "    neg_return_1 = df_1[df_1 < 0].values\n",
    "    t = stats.ttest_ind(neg_return_0, pos_return_1, equal_var=False)\n",
    "    t_stats[('Negative Return', days)] = p"
   ]
  },
  {
   "cell_type": "code",
   "execution_count": 30,
   "metadata": {},
   "outputs": [
    {
     "data": {
      "text/html": [
       "<div>\n",
       "<style scoped>\n",
       "    .dataframe tbody tr th:only-of-type {\n",
       "        vertical-align: middle;\n",
       "    }\n",
       "\n",
       "    .dataframe tbody tr th {\n",
       "        vertical-align: top;\n",
       "    }\n",
       "\n",
       "    .dataframe thead tr th {\n",
       "        text-align: left;\n",
       "    }\n",
       "</style>\n",
       "<table border=\"1\" class=\"dataframe\">\n",
       "  <thead>\n",
       "    <tr>\n",
       "      <th></th>\n",
       "      <th colspan=\"3\" halign=\"left\">p-value</th>\n",
       "    </tr>\n",
       "    <tr>\n",
       "      <th></th>\n",
       "      <th>1days</th>\n",
       "      <th>5days</th>\n",
       "      <th>20days</th>\n",
       "    </tr>\n",
       "  </thead>\n",
       "  <tbody>\n",
       "    <tr>\n",
       "      <th>Absolute Return</th>\n",
       "      <td>0.0</td>\n",
       "      <td>0.0</td>\n",
       "      <td>0.0</td>\n",
       "    </tr>\n",
       "    <tr>\n",
       "      <th>Negative Return</th>\n",
       "      <td>0.0</td>\n",
       "      <td>0.0</td>\n",
       "      <td>0.0</td>\n",
       "    </tr>\n",
       "    <tr>\n",
       "      <th>Positive Return</th>\n",
       "      <td>0.0</td>\n",
       "      <td>0.0</td>\n",
       "      <td>0.0</td>\n",
       "    </tr>\n",
       "  </tbody>\n",
       "</table>\n",
       "</div>"
      ],
      "text/plain": [
       "                p-value             \n",
       "                  1days 5days 20days\n",
       "Absolute Return     0.0   0.0    0.0\n",
       "Negative Return     0.0   0.0    0.0\n",
       "Positive Return     0.0   0.0    0.0"
      ]
     },
     "execution_count": 30,
     "metadata": {},
     "output_type": "execute_result"
    }
   ],
   "source": [
    "df_pvalue = pd.DataFrame(pd.Series(t_stats), columns=['p-value']).unstack()\n",
    "df_pvalue = df_pvalue[[('p-value', '1days'), ('p-value', '5days'), ('p-value', '20days')]] # 並び替え\n",
    "df_pvalue.round(4)"
   ]
  },
  {
   "cell_type": "markdown",
   "metadata": {},
   "source": [
    "帰無仮説:「写真の有無のリターンの平均に差はない」  \n",
    "p値がゼロであることから帰無仮説は棄却され、統計的に写真の有無はリターンに差がある可能性がある。  \n",
    "\n",
    "写真があるニュースはその日の出来事の中で特に注目される(影響の大きい)記事であることが多い為、  \n",
    "上記のような結果となるのは実感からして納得がいく。  "
   ]
  },
  {
   "cell_type": "markdown",
   "metadata": {},
   "source": [
    "## 記事の文字数の多さについて\n",
    "記事が文字数が多いほど市場への影響が大きいニュースの可能性が高い。  \n",
    "文字数の多さでユニバースを5分位に分け、第1分位と第5分位でリターンの差が見られるか検証する。  \n",
    "記事は2020年からしか無い為、2020年・2021年の全期間を対象とする"
   ]
  },
  {
   "cell_type": "code",
   "execution_count": 31,
   "metadata": {},
   "outputs": [
    {
     "data": {
      "text/plain": [
       "Text(0, 0.5, 'freq')"
      ]
     },
     "execution_count": 31,
     "metadata": {},
     "output_type": "execute_result"
    },
    {
     "data": {
      "image/png": "[encoded data removed]",
      "text/plain": [
       "<Figure size 432x288 with 1 Axes>"
      ]
     },
     "metadata": {
      "needs_background": "light"
     },
     "output_type": "display_data"
    }
   ],
   "source": [
    "df_target['char_length'].hist(bins=50)\n",
    "plt.xlabel('character num')\n",
    "plt.ylabel('freq')"
   ]
  },
  {
   "cell_type": "markdown",
   "metadata": {},
   "source": [
    "全体的に文字数は少ない記事が多い。"
   ]
  },
  {
   "cell_type": "code",
   "execution_count": 27,
   "metadata": {
    "scrolled": true
   },
   "outputs": [
    {
     "data": {
      "text/plain": [
       "Text(0.5, 0, 'char_length')"
      ]
     },
     "execution_count": 27,
     "metadata": {},
     "output_type": "execute_result"
    },
    {
     "data": {
      "image/png": "[encoded data removed]",
      "text/plain": [
       "<Figure size 1152x288 with 3 Axes>"
      ]
     },
     "metadata": {
      "needs_background": "light"
     },
     "output_type": "display_data"
    }
   ],
   "source": [
    "plt.figure(figsize=(16, 4))\n",
    "plt.subplot(1, 3, 1)\n",
    "plt.scatter(x=df_target['char_length'], y=df_target['1days_R'])\n",
    "plt.ylabel('1days_R')\n",
    "plt.xlabel('char_length')\n",
    "\n",
    "plt.subplot(1, 3, 2)\n",
    "plt.scatter(x=df_target['char_length'], y=df_target['5days_R'])\n",
    "plt.ylabel('5days_R')\n",
    "plt.xlabel('char_length')\n",
    "\n",
    "\n",
    "plt.subplot(1, 3, 3)\n",
    "plt.scatter(x=df_target['char_length'], y=df_target['20days_R'])\n",
    "plt.ylabel('20days_R')\n",
    "plt.xlabel('char_length')"
   ]
  },
  {
   "cell_type": "markdown",
   "metadata": {},
   "source": [
    "全体的にリターンは若干プラスに偏っているように見える。  \n",
    "記事が長くなると、リターンは0近辺に集中している。  \n",
    "⇒長い記事であるほど市場ではすでに既知となっており、すでに価格に織り込まれているのかもしれない。  \n",
    "　短い記事では即効性があるため、その分市場へのインパクトも大きく、リターンにばらつきが見られるように思われる。\n",
    " \n",
    "このグラフはJane Street(Kaggleのコンペ)で見覚えがある。"
   ]
  },
  {
   "cell_type": "code",
   "execution_count": 28,
   "metadata": {},
   "outputs": [],
   "source": [
    "p_tiles = [0, 0.2, 0.4, 0.6, 0.8, 1.0]\n",
    "port_returns = np.zeros((5, 3))\n",
    "\n",
    "for i in range(len(p_tiles)-1):\n",
    "    p_0 = df_target['char_length'].quantile(p_tiles[i])\n",
    "    p_1 = df_target['char_length'].quantile(p_tiles[i+1])\n",
    "    if i != 4:\n",
    "        port_i = df_target[(df_target['char_length'] >= p_0) & (df_target['char_length'] < p_1)]\n",
    "    else:\n",
    "        port_i = df_target[(df_target['char_length'] >= p_0) & (df_target['char_length'] <= p_1)]\n",
    "    \n",
    "    # ポートフォリオのリターンを計算する\n",
    "    port_returns[i, 0] = np.mean([r for r in port_i['1days_R'] if r != np.inf and r != -np.inf])\n",
    "    port_returns[i, 1] = np.mean([r for r in port_i['5days_R'] if r != np.inf and r != -np.inf])\n",
    "    port_returns[i, 2] = np.mean([r for r in port_i['20days_R'] if r != np.inf and r != -np.inf])"
   ]
  },
  {
   "cell_type": "code",
   "execution_count": 29,
   "metadata": {},
   "outputs": [
    {
     "data": {
      "text/plain": [
       "Text(0, 0.5, 'Portfolio Return')"
      ]
     },
     "execution_count": 29,
     "metadata": {},
     "output_type": "execute_result"
    },
    {
     "data": {
      "image/png": "[encoded data removed]",
      "text/plain": [
       "<Figure size 432x288 with 1 Axes>"
      ]
     },
     "metadata": {
      "needs_background": "light"
     },
     "output_type": "display_data"
    }
   ],
   "source": [
    "plt.figure()\n",
    "for i in range(5):\n",
    "    plt.plot([\"1day\", \"5days\", \"20days\"], port_returns[i], label=f'port_{i+1}')\n",
    "plt.legend()\n",
    "plt.ylabel('Portfolio Return')"
   ]
  },
  {
   "cell_type": "markdown",
   "metadata": {},
   "source": [
    "文字数によるリターンの差は見られなかった。  \n",
    "文字数が一番少ないport_1では、マイナスになりやすい傾向があるのかもしれない。  \n",
    "文字数が一番多いport_5はプラスのリターンの傾向があるようにも見えるが、port_4ではリターンがマイナスの傾向があるため、  \n",
    "文字数が多い場合にプラスの傾向が見られるとは一概には言えない。"
   ]
  },
  {
   "cell_type": "markdown",
   "metadata": {},
   "source": [
    "## 週次集計"
   ]
  },
  {
   "cell_type": "markdown",
   "metadata": {},
   "source": [
    "* ニュースは毎週どれだけ公表されているか。"
   ]
  },
  {
   "cell_type": "code",
   "execution_count": 30,
   "metadata": {},
   "outputs": [
    {
     "data": {
      "text/html": [
       "<div>\n",
       "<style scoped>\n",
       "    .dataframe tbody tr th:only-of-type {\n",
       "        vertical-align: middle;\n",
       "    }\n",
       "\n",
       "    .dataframe tbody tr th {\n",
       "        vertical-align: top;\n",
       "    }\n",
       "\n",
       "    .dataframe thead th {\n",
       "        text-align: right;\n",
       "    }\n",
       "</style>\n",
       "<table border=\"1\" class=\"dataframe\">\n",
       "  <thead>\n",
       "    <tr style=\"text-align: right;\">\n",
       "      <th></th>\n",
       "      <th>article_id</th>\n",
       "      <th>media_code</th>\n",
       "      <th>media_name</th>\n",
       "      <th>men_name</th>\n",
       "      <th>page_from</th>\n",
       "      <th>picture_flag</th>\n",
       "      <th>paragraph_cnt</th>\n",
       "      <th>char_length</th>\n",
       "      <th>headline</th>\n",
       "      <th>keywords</th>\n",
       "      <th>classifications</th>\n",
       "      <th>company_g.stock_code</th>\n",
       "    </tr>\n",
       "    <tr>\n",
       "      <th>publish_datetime</th>\n",
       "      <th></th>\n",
       "      <th></th>\n",
       "      <th></th>\n",
       "      <th></th>\n",
       "      <th></th>\n",
       "      <th></th>\n",
       "      <th></th>\n",
       "      <th></th>\n",
       "      <th></th>\n",
       "      <th></th>\n",
       "      <th></th>\n",
       "      <th></th>\n",
       "    </tr>\n",
       "  </thead>\n",
       "  <tbody>\n",
       "    <tr>\n",
       "      <th>2020-01-01 00:00:33+09:00</th>\n",
       "      <td>TDSKDBDGXMZO5400542031122019NN1000</td>\n",
       "      <td>TNY</td>\n",
       "      <td>日本経済新聞電子版</td>\n",
       "      <td>NaN</td>\n",
       "      <td>NaN</td>\n",
       "      <td>有</td>\n",
       "      <td>19</td>\n",
       "      <td>1778</td>\n",
       "      <td>ゴーン元会長、周到な不意打ち出国　司法批判の声明</td>\n",
       "      <td>カルロス・ゴーン\\n日産自動車\\nグレッグ・ケリー\\n弘中惇一郎\\nＭｕｓｉｃＴｅｌｅｖｉｓ...</td>\n",
       "      <td>＄絵写表記事\\nＴ７２０１\\nＰＤ２７１\\nＮ０００１３５１\\nＮ００４４３７１\\n＃Ｗ５０...</td>\n",
       "      <td>7201</td>\n",
       "    </tr>\n",
       "  </tbody>\n",
       "</table>\n",
       "</div>"
      ],
      "text/plain": [
       "                                                   article_id media_code  \\\n",
       "publish_datetime                                                           \n",
       "2020-01-01 00:00:33+09:00  TDSKDBDGXMZO5400542031122019NN1000        TNY   \n",
       "\n",
       "                          media_name  men_name  page_from picture_flag  \\\n",
       "publish_datetime                                                         \n",
       "2020-01-01 00:00:33+09:00  日本経済新聞電子版       NaN        NaN            有   \n",
       "\n",
       "                           paragraph_cnt  char_length  \\\n",
       "publish_datetime                                        \n",
       "2020-01-01 00:00:33+09:00             19         1778   \n",
       "\n",
       "                                           headline  \\\n",
       "publish_datetime                                      \n",
       "2020-01-01 00:00:33+09:00  ゴーン元会長、周到な不意打ち出国　司法批判の声明   \n",
       "\n",
       "                                                                    keywords  \\\n",
       "publish_datetime                                                               \n",
       "2020-01-01 00:00:33+09:00  カルロス・ゴーン\\n日産自動車\\nグレッグ・ケリー\\n弘中惇一郎\\nＭｕｓｉｃＴｅｌｅｖｉｓ...   \n",
       "\n",
       "                                                             classifications  \\\n",
       "publish_datetime                                                               \n",
       "2020-01-01 00:00:33+09:00  ＄絵写表記事\\nＴ７２０１\\nＰＤ２７１\\nＮ０００１３５１\\nＮ００４４３７１\\n＃Ｗ５０...   \n",
       "\n",
       "                          company_g.stock_code  \n",
       "publish_datetime                                \n",
       "2020-01-01 00:00:33+09:00                 7201  "
      ]
     },
     "execution_count": 30,
     "metadata": {},
     "output_type": "execute_result"
    }
   ],
   "source": [
    "df_target_2 = df_article[df_article['company_g.stock_code'].isin(codes)].copy()\n",
    "df_target_2.set_index('publish_datetime', inplace=True)\n",
    "df_target_2.index = pd.to_datetime(df_target_2.index)\n",
    "df_target_2.head(1)"
   ]
  },
  {
   "cell_type": "code",
   "execution_count": 31,
   "metadata": {},
   "outputs": [
    {
     "data": {
      "text/plain": [
       "count      53.000000\n",
       "mean      862.566038\n",
       "std       255.235676\n",
       "min        80.000000\n",
       "25%       762.000000\n",
       "50%       841.000000\n",
       "75%      1021.000000\n",
       "max      1509.000000\n",
       "Name: article_id, dtype: float64"
      ]
     },
     "execution_count": 31,
     "metadata": {},
     "output_type": "execute_result"
    }
   ],
   "source": [
    "df_target_2.resample('W').count()['article_id'].describe()"
   ]
  },
  {
   "cell_type": "markdown",
   "metadata": {},
   "source": [
    "1週間当たり平均860件ほどのニュースが公表される。    \n",
    "少なくても80件のニュースは公表されている。  \n",
    "⇒直近の1週間のニュースをベースにポートフォリオを組成することができるかもしれない。"
   ]
  },
  {
   "cell_type": "markdown",
   "metadata": {},
   "source": [
    "## イベントスタディ分析\n",
    "* ニュースが公表された銘柄とそうでない銘柄でリターンに差はあるのか\n",
    "* もし差があるとしたらニュースが出されてから何日間継続するのか。  \n",
    "  過去n日に公表された銘柄を対象とする際の目安となる。  \n",
    "  \n",
    "#### ニュースの影響を見るため、各銘柄でイベントスタディ分析をしてみる。  \n",
    "* マーケットリターンはTOPIXを利用  \n",
    "* 無リスク金利\n",
    "  * 日本国債10年 https://fred.stlouisfed.org/series/IRLTLT01JPM156N\n",
    "  * 無担保コール翌日物金利 https://fred.stlouisfed.org/series/IRSTCI01JPM156N  \n",
    "\n",
    "(参考)http://www.ier.hit-u.ac.jp/~iwaisako/class/MECON1_2008/HIT_lec07_08dist.pdf  \n",
    "　　　http://miyazakidesu.hatenablog.com/entry/2014/08/04/111449"
   ]
  },
  {
   "cell_type": "code",
   "execution_count": 32,
   "metadata": {},
   "outputs": [
    {
     "data": {
      "text/html": [
       "<div>\n",
       "<style scoped>\n",
       "    .dataframe tbody tr th:only-of-type {\n",
       "        vertical-align: middle;\n",
       "    }\n",
       "\n",
       "    .dataframe tbody tr th {\n",
       "        vertical-align: top;\n",
       "    }\n",
       "\n",
       "    .dataframe thead th {\n",
       "        text-align: right;\n",
       "    }\n",
       "</style>\n",
       "<table border=\"1\" class=\"dataframe\">\n",
       "  <thead>\n",
       "    <tr style=\"text-align: right;\">\n",
       "      <th></th>\n",
       "      <th>High</th>\n",
       "      <th>Low</th>\n",
       "      <th>Open</th>\n",
       "      <th>Close</th>\n",
       "      <th>Volume</th>\n",
       "      <th>Adj Close</th>\n",
       "    </tr>\n",
       "    <tr>\n",
       "      <th>Date</th>\n",
       "      <th></th>\n",
       "      <th></th>\n",
       "      <th></th>\n",
       "      <th></th>\n",
       "      <th></th>\n",
       "      <th></th>\n",
       "    </tr>\n",
       "  </thead>\n",
       "  <tbody>\n",
       "    <tr>\n",
       "      <th>2008-01-07</th>\n",
       "      <td>1420.400024</td>\n",
       "      <td>1420.400024</td>\n",
       "      <td>1420.400024</td>\n",
       "      <td>1420.400024</td>\n",
       "      <td>0.0</td>\n",
       "      <td>1420.400024</td>\n",
       "    </tr>\n",
       "    <tr>\n",
       "      <th>2008-01-08</th>\n",
       "      <td>1431.199951</td>\n",
       "      <td>1431.199951</td>\n",
       "      <td>1431.199951</td>\n",
       "      <td>1431.199951</td>\n",
       "      <td>0.0</td>\n",
       "      <td>1431.199951</td>\n",
       "    </tr>\n",
       "    <tr>\n",
       "      <th>2008-01-09</th>\n",
       "      <td>1452.699951</td>\n",
       "      <td>1452.699951</td>\n",
       "      <td>1452.699951</td>\n",
       "      <td>1452.699951</td>\n",
       "      <td>0.0</td>\n",
       "      <td>1452.699951</td>\n",
       "    </tr>\n",
       "    <tr>\n",
       "      <th>2008-01-10</th>\n",
       "      <td>1429.300049</td>\n",
       "      <td>1429.300049</td>\n",
       "      <td>1429.300049</td>\n",
       "      <td>1429.300049</td>\n",
       "      <td>0.0</td>\n",
       "      <td>1429.300049</td>\n",
       "    </tr>\n",
       "    <tr>\n",
       "      <th>2008-01-11</th>\n",
       "      <td>1405.300049</td>\n",
       "      <td>1405.300049</td>\n",
       "      <td>1405.300049</td>\n",
       "      <td>1405.300049</td>\n",
       "      <td>0.0</td>\n",
       "      <td>1405.300049</td>\n",
       "    </tr>\n",
       "  </tbody>\n",
       "</table>\n",
       "</div>"
      ],
      "text/plain": [
       "                   High          Low         Open        Close  Volume  \\\n",
       "Date                                                                     \n",
       "2008-01-07  1420.400024  1420.400024  1420.400024  1420.400024     0.0   \n",
       "2008-01-08  1431.199951  1431.199951  1431.199951  1431.199951     0.0   \n",
       "2008-01-09  1452.699951  1452.699951  1452.699951  1452.699951     0.0   \n",
       "2008-01-10  1429.300049  1429.300049  1429.300049  1429.300049     0.0   \n",
       "2008-01-11  1405.300049  1405.300049  1405.300049  1405.300049     0.0   \n",
       "\n",
       "              Adj Close  \n",
       "Date                     \n",
       "2008-01-07  1420.400024  \n",
       "2008-01-08  1431.199951  \n",
       "2008-01-09  1452.699951  \n",
       "2008-01-10  1429.300049  \n",
       "2008-01-11  1405.300049  "
      ]
     },
     "execution_count": 32,
     "metadata": {},
     "output_type": "execute_result"
    }
   ],
   "source": [
    "import pandas_datareader.data as pdr\n",
    "TOPIX = pdr.DataReader('1305.T', 'yahoo', '2008/01/01') # Daiwa Topix Listed\n",
    "TOPIX.head()"
   ]
  },
  {
   "cell_type": "code",
   "execution_count": 33,
   "metadata": {
    "scrolled": true
   },
   "outputs": [
    {
     "data": {
      "text/html": [
       "<div>\n",
       "<style scoped>\n",
       "    .dataframe tbody tr th:only-of-type {\n",
       "        vertical-align: middle;\n",
       "    }\n",
       "\n",
       "    .dataframe tbody tr th {\n",
       "        vertical-align: top;\n",
       "    }\n",
       "\n",
       "    .dataframe thead th {\n",
       "        text-align: right;\n",
       "    }\n",
       "</style>\n",
       "<table border=\"1\" class=\"dataframe\">\n",
       "  <thead>\n",
       "    <tr style=\"text-align: right;\">\n",
       "      <th></th>\n",
       "      <th>IRSTCI01JPM156N</th>\n",
       "    </tr>\n",
       "    <tr>\n",
       "      <th>DATE</th>\n",
       "      <th></th>\n",
       "    </tr>\n",
       "  </thead>\n",
       "  <tbody>\n",
       "    <tr>\n",
       "      <th>2008-01-01</th>\n",
       "      <td>0.00502</td>\n",
       "    </tr>\n",
       "    <tr>\n",
       "      <th>2008-02-01</th>\n",
       "      <td>0.00504</td>\n",
       "    </tr>\n",
       "    <tr>\n",
       "      <th>2008-03-01</th>\n",
       "      <td>0.00511</td>\n",
       "    </tr>\n",
       "    <tr>\n",
       "      <th>2008-04-01</th>\n",
       "      <td>0.00506</td>\n",
       "    </tr>\n",
       "    <tr>\n",
       "      <th>2008-05-01</th>\n",
       "      <td>0.00505</td>\n",
       "    </tr>\n",
       "  </tbody>\n",
       "</table>\n",
       "</div>"
      ],
      "text/plain": [
       "            IRSTCI01JPM156N\n",
       "DATE                       \n",
       "2008-01-01          0.00502\n",
       "2008-02-01          0.00504\n",
       "2008-03-01          0.00511\n",
       "2008-04-01          0.00506\n",
       "2008-05-01          0.00505"
      ]
     },
     "execution_count": 33,
     "metadata": {},
     "output_type": "execute_result"
    }
   ],
   "source": [
    "RF_rate = pdr.DataReader('IRSTCI01JPM156N', 'fred', '2008/01/01') / 100 # Immediate Rates: Less than 24 Hours: Call Money/Interbank Rate for Japan\n",
    "RF_rate.head()"
   ]
  },
  {
   "cell_type": "markdown",
   "metadata": {},
   "source": [
    "月次データになっているため、日次に変換する必要あり。  \n",
    "今回はデータがこれ以外無い(ネットから拾うのは面倒な)為、月次を日次に変換したものを利用する。"
   ]
  },
  {
   "cell_type": "code",
   "execution_count": 34,
   "metadata": {},
   "outputs": [
    {
     "data": {
      "text/html": [
       "<div>\n",
       "<style scoped>\n",
       "    .dataframe tbody tr th:only-of-type {\n",
       "        vertical-align: middle;\n",
       "    }\n",
       "\n",
       "    .dataframe tbody tr th {\n",
       "        vertical-align: top;\n",
       "    }\n",
       "\n",
       "    .dataframe thead th {\n",
       "        text-align: right;\n",
       "    }\n",
       "</style>\n",
       "<table border=\"1\" class=\"dataframe\">\n",
       "  <thead>\n",
       "    <tr style=\"text-align: right;\">\n",
       "      <th></th>\n",
       "      <th>R_f</th>\n",
       "    </tr>\n",
       "    <tr>\n",
       "      <th>DATE</th>\n",
       "      <th></th>\n",
       "    </tr>\n",
       "  </thead>\n",
       "  <tbody>\n",
       "    <tr>\n",
       "      <th>2008-01-01</th>\n",
       "      <td>0.00502</td>\n",
       "    </tr>\n",
       "    <tr>\n",
       "      <th>2008-01-02</th>\n",
       "      <td>0.00502</td>\n",
       "    </tr>\n",
       "    <tr>\n",
       "      <th>2008-01-03</th>\n",
       "      <td>0.00502</td>\n",
       "    </tr>\n",
       "    <tr>\n",
       "      <th>2008-01-04</th>\n",
       "      <td>0.00502</td>\n",
       "    </tr>\n",
       "    <tr>\n",
       "      <th>2008-01-05</th>\n",
       "      <td>0.00502</td>\n",
       "    </tr>\n",
       "  </tbody>\n",
       "</table>\n",
       "</div>"
      ],
      "text/plain": [
       "                R_f\n",
       "DATE               \n",
       "2008-01-01  0.00502\n",
       "2008-01-02  0.00502\n",
       "2008-01-03  0.00502\n",
       "2008-01-04  0.00502\n",
       "2008-01-05  0.00502"
      ]
     },
     "execution_count": 34,
     "metadata": {},
     "output_type": "execute_result"
    }
   ],
   "source": [
    "RF_rate = RF_rate.resample('D').fillna(method='ffill')\n",
    "RF_rate.columns = ['R_f']\n",
    "RF_rate.head()"
   ]
  },
  {
   "cell_type": "code",
   "execution_count": 35,
   "metadata": {},
   "outputs": [
    {
     "data": {
      "text/html": [
       "<div>\n",
       "<style scoped>\n",
       "    .dataframe tbody tr th:only-of-type {\n",
       "        vertical-align: middle;\n",
       "    }\n",
       "\n",
       "    .dataframe tbody tr th {\n",
       "        vertical-align: top;\n",
       "    }\n",
       "\n",
       "    .dataframe thead th {\n",
       "        text-align: right;\n",
       "    }\n",
       "</style>\n",
       "<table border=\"1\" class=\"dataframe\">\n",
       "  <thead>\n",
       "    <tr style=\"text-align: right;\">\n",
       "      <th></th>\n",
       "      <th>article_id</th>\n",
       "      <th>publish_datetime</th>\n",
       "      <th>media_code</th>\n",
       "      <th>media_name</th>\n",
       "      <th>men_name</th>\n",
       "      <th>page_from</th>\n",
       "      <th>picture_flag</th>\n",
       "      <th>paragraph_cnt</th>\n",
       "      <th>char_length</th>\n",
       "      <th>headline</th>\n",
       "      <th>keywords</th>\n",
       "      <th>classifications</th>\n",
       "      <th>company_g.stock_code</th>\n",
       "      <th>1days_R</th>\n",
       "      <th>5days_R</th>\n",
       "      <th>20days_R</th>\n",
       "    </tr>\n",
       "  </thead>\n",
       "  <tbody>\n",
       "    <tr>\n",
       "      <th>10</th>\n",
       "      <td>TDSKDBDGXMZO5400542031122019NN1000</td>\n",
       "      <td>2020-01-01 15:00:00+09:00</td>\n",
       "      <td>TNY</td>\n",
       "      <td>日本経済新聞電子版</td>\n",
       "      <td>NaN</td>\n",
       "      <td>NaN</td>\n",
       "      <td>1.0</td>\n",
       "      <td>19</td>\n",
       "      <td>1778</td>\n",
       "      <td>ゴーン元会長、周到な不意打ち出国　司法批判の声明</td>\n",
       "      <td>カルロス・ゴーン\\n日産自動車\\nグレッグ・ケリー\\n弘中惇一郎\\nＭｕｓｉｃＴｅｌｅｖｉｓ...</td>\n",
       "      <td>＄絵写表記事\\nＴ７２０１\\nＰＤ２７１\\nＮ０００１３５１\\nＮ００４４３７１\\n＃Ｗ５０...</td>\n",
       "      <td>7201</td>\n",
       "      <td>0.017586</td>\n",
       "      <td>-0.01199</td>\n",
       "      <td>-0.060592</td>\n",
       "    </tr>\n",
       "  </tbody>\n",
       "</table>\n",
       "</div>"
      ],
      "text/plain": [
       "                            article_id          publish_datetime media_code  \\\n",
       "10  TDSKDBDGXMZO5400542031122019NN1000 2020-01-01 15:00:00+09:00        TNY   \n",
       "\n",
       "   media_name  men_name  page_from  picture_flag  paragraph_cnt  char_length  \\\n",
       "10  日本経済新聞電子版       NaN        NaN           1.0             19         1778   \n",
       "\n",
       "                    headline  \\\n",
       "10  ゴーン元会長、周到な不意打ち出国　司法批判の声明   \n",
       "\n",
       "                                             keywords  \\\n",
       "10  カルロス・ゴーン\\n日産自動車\\nグレッグ・ケリー\\n弘中惇一郎\\nＭｕｓｉｃＴｅｌｅｖｉｓ...   \n",
       "\n",
       "                                      classifications company_g.stock_code  \\\n",
       "10  ＄絵写表記事\\nＴ７２０１\\nＰＤ２７１\\nＮ０００１３５１\\nＮ００４４３７１\\n＃Ｗ５０...                 7201   \n",
       "\n",
       "     1days_R  5days_R  20days_R  \n",
       "10  0.017586 -0.01199 -0.060592  "
      ]
     },
     "execution_count": 35,
     "metadata": {},
     "output_type": "execute_result"
    }
   ],
   "source": [
    "df_target.head(1)"
   ]
  },
  {
   "cell_type": "code",
   "execution_count": 36,
   "metadata": {
    "scrolled": true
   },
   "outputs": [],
   "source": [
    "# 回帰モデルを定義\n",
    "from sklearn import linear_model\n",
    " \n",
    "window = 130 # 推定ウィンドウサイズ(営業日), 祝日などがあるため、実際はこれより小さくなる\n",
    "\n",
    "Rs, ARs, CARs = [], [], [] # 推定時の決定係数, 異常リターン, 累積異常リターン\n",
    "\n",
    "for i in df_target.index:\n",
    "    # 対象銘柄の価格情報\n",
    "    df_price_one_code = df_price[df_price['Local Code'] == int(df_target['company_g.stock_code'][i])]\n",
    "    \n",
    "    # 推定に必要なデータをマージする\n",
    "    df_price_one_code = pd.merge(df_price_one_code, TOPIX['Adj Close'], left_index=True, right_index=True)\n",
    "    df_price_one_code = pd.merge(df_price_one_code, RF_rate, left_index=True, right_index=True)\n",
    "    \n",
    "    # 推定に必要なデータを計算\n",
    "    df_price_one_code['R_i'] = np.log(df_price_one_code['EndOfDayQuote ExchangeOfficialClose']).diff()\n",
    "    df_price_one_code['R_M'] = np.log(df_price_one_code['Adj Close']).diff()\n",
    "    df_price_one_code['R_M-R_f'] = df_price_one_code['R_M'] - df_price_one_code['R_f']\n",
    "    df_price_one_code.dropna(subset=['R_f', 'R_i', 'R_M', 'R_M-R_f'], inplace=True)\n",
    "    \n",
    "    # 時点の設定\n",
    "    event_date = pd.to_datetime(df_target['publish_datetime'][i].date()) \n",
    "    t_0 = event_date - pd.offsets.BDay(n=window + 2) # 推定ウィンドウの開始時点\n",
    "    t_1 = event_date - pd.offsets.BDay(n=2)          # 推定ウィンドウ時点\n",
    "    t_2 = event_date - pd.offsets.BDay(n=1)          # イベントウィンドウの開始時点\n",
    "    t_3 = event_date + pd.offsets.BDay(n=1)          # イベントウィンドウの終了時点\n",
    "    \n",
    "    # 推定できるデータ量があるかチェック\n",
    "    if t_0 < df_price_one_code.index[0]  or df_price_one_code.index[-1] < t_3 :\n",
    "        # インデックスサイズがオーバーのため、スキップ\n",
    "        continue \n",
    "    \n",
    "    # 推定(イベント日-132 ～ イベント日-2)\n",
    "    estimate_window = df_price_one_code[(df_price_one_code.index >= t_0) & (df_price_one_code.index <= t_1)]\n",
    "    \n",
    "    # 説明変数\n",
    "    X = estimate_window['R_M-R_f'].values[1:].reshape(-1, 1) # nanを除く\n",
    "\n",
    "    # 目的変数\n",
    "    Y = estimate_window['R_i'].values[1:].reshape(-1, 1) # nanを除く\n",
    "\n",
    "    # 予測モデルを作成\n",
    "    clf = linear_model.LinearRegression()\n",
    "    clf.fit(X, Y)\n",
    "    \n",
    "    # イベントウィンドウ\n",
    "    event_window = df_price_one_code[(df_price_one_code.index >= t_2) & (df_price_one_code.index <= t_3)]\n",
    "    \n",
    "    # イベント日が前後の3日間で株価が取得できない場合はスキップ\n",
    "    if len(event_window) < 3:\n",
    "        continue\n",
    "    \n",
    "    # アブノーマルリターン, 累積アブノーマルリターンを推定\n",
    "    AR = event_window['R_i'].values - (clf.intercept_ + clf.coef_ * event_window['R_M-R_f'].values)\n",
    "    CAR = np.sum(AR)\n",
    "    \n",
    "    # 結果を格納\n",
    "    Rs.append(clf.score(X, Y))\n",
    "    ARs.append(AR)\n",
    "    CARs.append(CAR)"
   ]
  },
  {
   "cell_type": "code",
   "execution_count": 120,
   "metadata": {},
   "outputs": [
    {
     "data": {
      "text/html": [
       "<div>\n",
       "<style scoped>\n",
       "    .dataframe tbody tr th:only-of-type {\n",
       "        vertical-align: middle;\n",
       "    }\n",
       "\n",
       "    .dataframe tbody tr th {\n",
       "        vertical-align: top;\n",
       "    }\n",
       "\n",
       "    .dataframe thead th {\n",
       "        text-align: right;\n",
       "    }\n",
       "</style>\n",
       "<table border=\"1\" class=\"dataframe\">\n",
       "  <thead>\n",
       "    <tr style=\"text-align: right;\">\n",
       "      <th></th>\n",
       "      <th>R2</th>\n",
       "      <th>AR_0</th>\n",
       "      <th>AR_1</th>\n",
       "      <th>AR_2</th>\n",
       "      <th>CAR</th>\n",
       "    </tr>\n",
       "  </thead>\n",
       "  <tbody>\n",
       "    <tr>\n",
       "      <th>0</th>\n",
       "      <td>0.128830</td>\n",
       "      <td>-0.007562</td>\n",
       "      <td>-0.003897</td>\n",
       "      <td>-0.003800</td>\n",
       "      <td>-0.015259</td>\n",
       "    </tr>\n",
       "    <tr>\n",
       "      <th>1</th>\n",
       "      <td>0.194981</td>\n",
       "      <td>0.010013</td>\n",
       "      <td>-0.023147</td>\n",
       "      <td>-0.001675</td>\n",
       "      <td>-0.014810</td>\n",
       "    </tr>\n",
       "    <tr>\n",
       "      <th>2</th>\n",
       "      <td>0.194981</td>\n",
       "      <td>0.010013</td>\n",
       "      <td>-0.023147</td>\n",
       "      <td>-0.001675</td>\n",
       "      <td>-0.014810</td>\n",
       "    </tr>\n",
       "    <tr>\n",
       "      <th>3</th>\n",
       "      <td>0.194981</td>\n",
       "      <td>0.010013</td>\n",
       "      <td>-0.023147</td>\n",
       "      <td>-0.001675</td>\n",
       "      <td>-0.014810</td>\n",
       "    </tr>\n",
       "    <tr>\n",
       "      <th>4</th>\n",
       "      <td>0.169658</td>\n",
       "      <td>-0.000717</td>\n",
       "      <td>0.014798</td>\n",
       "      <td>-0.012945</td>\n",
       "      <td>0.001136</td>\n",
       "    </tr>\n",
       "  </tbody>\n",
       "</table>\n",
       "</div>"
      ],
      "text/plain": [
       "         R2      AR_0      AR_1      AR_2       CAR\n",
       "0  0.128830 -0.007562 -0.003897 -0.003800 -0.015259\n",
       "1  0.194981  0.010013 -0.023147 -0.001675 -0.014810\n",
       "2  0.194981  0.010013 -0.023147 -0.001675 -0.014810\n",
       "3  0.194981  0.010013 -0.023147 -0.001675 -0.014810\n",
       "4  0.169658 -0.000717  0.014798 -0.012945  0.001136"
      ]
     },
     "execution_count": 120,
     "metadata": {},
     "output_type": "execute_result"
    }
   ],
   "source": [
    "results = pd.concat([pd.DataFrame(pd.Series(Rs), columns=['R2']), \n",
    "                     pd.DataFrame(np.array(ARs)[:, 0], columns=['AR_0', 'AR_1', 'AR_2']),\n",
    "                     pd.DataFrame(pd.Series(CARs), columns=['CAR'])], axis=1)\n",
    "results.head()"
   ]
  },
  {
   "cell_type": "code",
   "execution_count": 127,
   "metadata": {},
   "outputs": [
    {
     "data": {
      "text/html": [
       "<div>\n",
       "<style scoped>\n",
       "    .dataframe tbody tr th:only-of-type {\n",
       "        vertical-align: middle;\n",
       "    }\n",
       "\n",
       "    .dataframe tbody tr th {\n",
       "        vertical-align: top;\n",
       "    }\n",
       "\n",
       "    .dataframe thead th {\n",
       "        text-align: right;\n",
       "    }\n",
       "</style>\n",
       "<table border=\"1\" class=\"dataframe\">\n",
       "  <thead>\n",
       "    <tr style=\"text-align: right;\">\n",
       "      <th></th>\n",
       "      <th>R2</th>\n",
       "      <th>AR_0</th>\n",
       "      <th>AR_1</th>\n",
       "      <th>AR_2</th>\n",
       "      <th>CAR</th>\n",
       "    </tr>\n",
       "  </thead>\n",
       "  <tbody>\n",
       "    <tr>\n",
       "      <th>count</th>\n",
       "      <td>3.617100e+04</td>\n",
       "      <td>36171.000000</td>\n",
       "      <td>36171.000000</td>\n",
       "      <td>36171.000000</td>\n",
       "      <td>36171.000000</td>\n",
       "    </tr>\n",
       "    <tr>\n",
       "      <th>mean</th>\n",
       "      <td>3.578972e-01</td>\n",
       "      <td>0.000576</td>\n",
       "      <td>0.000803</td>\n",
       "      <td>-0.000623</td>\n",
       "      <td>0.000756</td>\n",
       "    </tr>\n",
       "    <tr>\n",
       "      <th>std</th>\n",
       "      <td>1.817922e-01</td>\n",
       "      <td>0.027272</td>\n",
       "      <td>0.037584</td>\n",
       "      <td>0.026941</td>\n",
       "      <td>0.055110</td>\n",
       "    </tr>\n",
       "    <tr>\n",
       "      <th>min</th>\n",
       "      <td>8.067791e-08</td>\n",
       "      <td>-0.309136</td>\n",
       "      <td>-0.339324</td>\n",
       "      <td>-0.305852</td>\n",
       "      <td>-0.657586</td>\n",
       "    </tr>\n",
       "    <tr>\n",
       "      <th>25%</th>\n",
       "      <td>2.201126e-01</td>\n",
       "      <td>-0.010904</td>\n",
       "      <td>-0.013029</td>\n",
       "      <td>-0.012087</td>\n",
       "      <td>-0.022045</td>\n",
       "    </tr>\n",
       "    <tr>\n",
       "      <th>50%</th>\n",
       "      <td>3.660970e-01</td>\n",
       "      <td>-0.000241</td>\n",
       "      <td>-0.000237</td>\n",
       "      <td>-0.000625</td>\n",
       "      <td>-0.000084</td>\n",
       "    </tr>\n",
       "    <tr>\n",
       "      <th>75%</th>\n",
       "      <td>4.950691e-01</td>\n",
       "      <td>0.010957</td>\n",
       "      <td>0.012578</td>\n",
       "      <td>0.010447</td>\n",
       "      <td>0.020631</td>\n",
       "    </tr>\n",
       "    <tr>\n",
       "      <th>max</th>\n",
       "      <td>7.776116e-01</td>\n",
       "      <td>0.749464</td>\n",
       "      <td>0.310823</td>\n",
       "      <td>0.330348</td>\n",
       "      <td>0.706007</td>\n",
       "    </tr>\n",
       "  </tbody>\n",
       "</table>\n",
       "</div>"
      ],
      "text/plain": [
       "                 R2          AR_0          AR_1          AR_2           CAR\n",
       "count  3.617100e+04  36171.000000  36171.000000  36171.000000  36171.000000\n",
       "mean   3.578972e-01      0.000576      0.000803     -0.000623      0.000756\n",
       "std    1.817922e-01      0.027272      0.037584      0.026941      0.055110\n",
       "min    8.067791e-08     -0.309136     -0.339324     -0.305852     -0.657586\n",
       "25%    2.201126e-01     -0.010904     -0.013029     -0.012087     -0.022045\n",
       "50%    3.660970e-01     -0.000241     -0.000237     -0.000625     -0.000084\n",
       "75%    4.950691e-01      0.010957      0.012578      0.010447      0.020631\n",
       "max    7.776116e-01      0.749464      0.310823      0.330348      0.706007"
      ]
     },
     "execution_count": 127,
     "metadata": {},
     "output_type": "execute_result"
    }
   ],
   "source": [
    "results.describe()"
   ]
  },
  {
   "cell_type": "code",
   "execution_count": 123,
   "metadata": {},
   "outputs": [
    {
     "name": "stdout",
     "output_type": "stream",
     "text": [
      "2.6078380054921504 0.009115349275050585\n"
     ]
    }
   ],
   "source": [
    "# 検定\n",
    "t, p = stats.ttest_1samp(results['CAR'] / results['CAR'].std(), 0)\n",
    "print(t, p)"
   ]
  },
  {
   "cell_type": "code",
   "execution_count": 129,
   "metadata": {},
   "outputs": [
    {
     "data": {
      "text/plain": [
       "<AxesSubplot:>"
      ]
     },
     "execution_count": 129,
     "metadata": {},
     "output_type": "execute_result"
    },
    {
     "data": {
      "image/png": "[encoded data removed]",
      "text/plain": [
       "<Figure size 432x288 with 1 Axes>"
      ]
     },
     "metadata": {
      "needs_background": "light"
     },
     "output_type": "display_data"
    }
   ],
   "source": [
    "results['CAR'].hist(bins=30)"
   ]
  },
  {
   "cell_type": "markdown",
   "metadata": {},
   "source": [
    "有意水準1%で帰無仮説:平均$ \\mu=0 $は棄却される。  \n",
    "⇒ ニュースの公表はインパクトがある。"
   ]
  },
  {
   "cell_type": "code",
   "execution_count": 143,
   "metadata": {},
   "outputs": [],
   "source": [
    "# Post Windowについても見てみる\n",
    "\n",
    "window = 130 # 推定ウィンドウサイズ(営業日), 祝日などがあるため、実際はこれより小さくなる\n",
    "\n",
    "R2s, ARs, Post_ARs, CARs = [], [], [], [] \n",
    "\n",
    "for i in df_target.index:\n",
    "    # 対象銘柄の価格情報\n",
    "    df_price_one_code = df_price[df_price['Local Code'] == int(df_target['company_g.stock_code'][i])]\n",
    "    \n",
    "    # 推定に必要なデータをマージする\n",
    "    df_price_one_code = pd.merge(df_price_one_code, TOPIX['Adj Close'], left_index=True, right_index=True)\n",
    "    df_price_one_code = pd.merge(df_price_one_code, RF_rate, left_index=True, right_index=True)\n",
    "    \n",
    "    # 推定に必要なデータを計算\n",
    "    df_price_one_code['R_i'] = np.log(df_price_one_code['EndOfDayQuote ExchangeOfficialClose']).diff()\n",
    "    df_price_one_code['R_M'] = np.log(df_price_one_code['Adj Close']).diff()\n",
    "    df_price_one_code['R_M-R_f'] = df_price_one_code['R_M'] - df_price_one_code['R_f']\n",
    "    df_price_one_code.dropna(subset=['R_f', 'R_i', 'R_M', 'R_M-R_f'], inplace=True)\n",
    "    \n",
    "    # 時点の設定\n",
    "    event_date = pd.to_datetime(df_target['publish_datetime'][i].date()) \n",
    "    t_0 = event_date - pd.offsets.BDay(n=window + 2) # 推定ウィンドウの開始時点\n",
    "    t_1 = event_date - pd.offsets.BDay(n=2)          # 推定ウィンドウ時点\n",
    "    t_2 = event_date - pd.offsets.BDay(n=1)          # イベントウィンドウの開始時点\n",
    "    t_3 = event_date + pd.offsets.BDay(n=1)          # イベントウィンドウの終了時点\n",
    "    t_4 = event_date + pd.offsets.BDay(n=2)          # ポストウィンドウの開始時点\n",
    "    t_5 = event_date + pd.offsets.BDay(n=22)         # ポストウィンドウの終了時点\n",
    "    \n",
    "    # 推定できるデータ量があるかチェック\n",
    "    if t_0 < df_price_one_code.index[0]  or df_price_one_code.index[-1] < t_3 :\n",
    "        # インデックスサイズがオーバーのため、スキップ\n",
    "        continue \n",
    "    \n",
    "    # 推定(イベント日-132 ～ イベント日-2)\n",
    "    estimate_window = df_price_one_code[(df_price_one_code.index >= t_0) & (df_price_one_code.index <= t_1)]\n",
    "    \n",
    "    # 説明変数\n",
    "    X = estimate_window['R_M-R_f'].values[1:].reshape(-1, 1) # nanを除く\n",
    "\n",
    "    # 目的変数\n",
    "    Y = estimate_window['R_i'].values[1:].reshape(-1, 1) # nanを除く\n",
    "\n",
    "    # 予測モデルを作成\n",
    "    clf = linear_model.LinearRegression()\n",
    "    clf.fit(X, Y)\n",
    "    \n",
    "    # ウィンドウ\n",
    "    event_window = df_price_one_code[(df_price_one_code.index >= t_2) & (df_price_one_code.index <= t_3)]\n",
    "    post_window = df_price_one_code[(df_price_one_code.index >= t_4) & (df_price_one_code.index <= t_5)]\n",
    "    \n",
    "    # 株価が取得できない場合はスキップ\n",
    "    if len(event_window) < 3 or len(post_window) < 20:\n",
    "        continue\n",
    "    \n",
    "    # アブノーマルリターンを推定\n",
    "    AR = event_window['R_i'].values - (clf.intercept_ + clf.coef_ * event_window['R_M-R_f'].values)\n",
    "    Post_AR = post_window['R_i'].values - (clf.intercept_ + clf.coef_ * post_window['R_M-R_f'].values)\n",
    "    CAR = np.sum(AR)\n",
    "    \n",
    "    # 結果を格納\n",
    "    R2s.append(clf.score(X, Y))\n",
    "    ARs.append(AR)\n",
    "    CARs.append(CAR)\n",
    "    Post_ARs.append(Post_AR)"
   ]
  },
  {
   "cell_type": "code",
   "execution_count": 251,
   "metadata": {
    "scrolled": true
   },
   "outputs": [
    {
     "data": {
      "text/html": [
       "<div>\n",
       "<style scoped>\n",
       "    .dataframe tbody tr th:only-of-type {\n",
       "        vertical-align: middle;\n",
       "    }\n",
       "\n",
       "    .dataframe tbody tr th {\n",
       "        vertical-align: top;\n",
       "    }\n",
       "\n",
       "    .dataframe thead th {\n",
       "        text-align: right;\n",
       "    }\n",
       "</style>\n",
       "<table border=\"1\" class=\"dataframe\">\n",
       "  <thead>\n",
       "    <tr style=\"text-align: right;\">\n",
       "      <th></th>\n",
       "      <th>R2</th>\n",
       "      <th>AR_0</th>\n",
       "      <th>AR_1</th>\n",
       "      <th>AR_2</th>\n",
       "      <th>CAR</th>\n",
       "      <th>AR_3</th>\n",
       "      <th>AR_4</th>\n",
       "      <th>AR_5</th>\n",
       "      <th>AR_6</th>\n",
       "      <th>AR_7</th>\n",
       "      <th>...</th>\n",
       "      <th>AR_13</th>\n",
       "      <th>AR_14</th>\n",
       "      <th>AR_15</th>\n",
       "      <th>AR_16</th>\n",
       "      <th>AR_17</th>\n",
       "      <th>AR_18</th>\n",
       "      <th>AR_19</th>\n",
       "      <th>AR_20</th>\n",
       "      <th>AR_21</th>\n",
       "      <th>AR_22</th>\n",
       "    </tr>\n",
       "  </thead>\n",
       "  <tbody>\n",
       "    <tr>\n",
       "      <th>0</th>\n",
       "      <td>0.128830</td>\n",
       "      <td>-0.007562</td>\n",
       "      <td>-0.003897</td>\n",
       "      <td>-0.003800</td>\n",
       "      <td>-0.015259</td>\n",
       "      <td>0.000852</td>\n",
       "      <td>0.002784</td>\n",
       "      <td>-0.004835</td>\n",
       "      <td>0.001227</td>\n",
       "      <td>0.027619</td>\n",
       "      <td>...</td>\n",
       "      <td>-0.014306</td>\n",
       "      <td>0.011629</td>\n",
       "      <td>0.007914</td>\n",
       "      <td>-0.010992</td>\n",
       "      <td>0.014925</td>\n",
       "      <td>-0.002662</td>\n",
       "      <td>-0.000235</td>\n",
       "      <td>-0.021305</td>\n",
       "      <td>-0.010795</td>\n",
       "      <td>0.025516</td>\n",
       "    </tr>\n",
       "    <tr>\n",
       "      <th>1</th>\n",
       "      <td>0.194981</td>\n",
       "      <td>0.010013</td>\n",
       "      <td>-0.023147</td>\n",
       "      <td>-0.001675</td>\n",
       "      <td>-0.014810</td>\n",
       "      <td>-0.005370</td>\n",
       "      <td>0.029857</td>\n",
       "      <td>0.001260</td>\n",
       "      <td>0.004146</td>\n",
       "      <td>0.011401</td>\n",
       "      <td>...</td>\n",
       "      <td>-0.019324</td>\n",
       "      <td>-0.009113</td>\n",
       "      <td>0.028143</td>\n",
       "      <td>-0.012644</td>\n",
       "      <td>0.004742</td>\n",
       "      <td>-0.017907</td>\n",
       "      <td>-0.048328</td>\n",
       "      <td>0.013265</td>\n",
       "      <td>-0.015670</td>\n",
       "      <td>-0.034767</td>\n",
       "    </tr>\n",
       "    <tr>\n",
       "      <th>2</th>\n",
       "      <td>0.194981</td>\n",
       "      <td>0.010013</td>\n",
       "      <td>-0.023147</td>\n",
       "      <td>-0.001675</td>\n",
       "      <td>-0.014810</td>\n",
       "      <td>-0.005370</td>\n",
       "      <td>0.029857</td>\n",
       "      <td>0.001260</td>\n",
       "      <td>0.004146</td>\n",
       "      <td>0.011401</td>\n",
       "      <td>...</td>\n",
       "      <td>-0.019324</td>\n",
       "      <td>-0.009113</td>\n",
       "      <td>0.028143</td>\n",
       "      <td>-0.012644</td>\n",
       "      <td>0.004742</td>\n",
       "      <td>-0.017907</td>\n",
       "      <td>-0.048328</td>\n",
       "      <td>0.013265</td>\n",
       "      <td>-0.015670</td>\n",
       "      <td>-0.034767</td>\n",
       "    </tr>\n",
       "    <tr>\n",
       "      <th>3</th>\n",
       "      <td>0.194981</td>\n",
       "      <td>0.010013</td>\n",
       "      <td>-0.023147</td>\n",
       "      <td>-0.001675</td>\n",
       "      <td>-0.014810</td>\n",
       "      <td>-0.005370</td>\n",
       "      <td>0.029857</td>\n",
       "      <td>0.001260</td>\n",
       "      <td>0.004146</td>\n",
       "      <td>0.011401</td>\n",
       "      <td>...</td>\n",
       "      <td>-0.019324</td>\n",
       "      <td>-0.009113</td>\n",
       "      <td>0.028143</td>\n",
       "      <td>-0.012644</td>\n",
       "      <td>0.004742</td>\n",
       "      <td>-0.017907</td>\n",
       "      <td>-0.048328</td>\n",
       "      <td>0.013265</td>\n",
       "      <td>-0.015670</td>\n",
       "      <td>-0.034767</td>\n",
       "    </tr>\n",
       "    <tr>\n",
       "      <th>4</th>\n",
       "      <td>0.169658</td>\n",
       "      <td>-0.000717</td>\n",
       "      <td>0.014798</td>\n",
       "      <td>-0.012945</td>\n",
       "      <td>0.001136</td>\n",
       "      <td>0.000201</td>\n",
       "      <td>0.004155</td>\n",
       "      <td>-0.001309</td>\n",
       "      <td>-0.007503</td>\n",
       "      <td>0.005054</td>\n",
       "      <td>...</td>\n",
       "      <td>0.015649</td>\n",
       "      <td>0.032542</td>\n",
       "      <td>-0.005294</td>\n",
       "      <td>0.006481</td>\n",
       "      <td>0.011057</td>\n",
       "      <td>0.018332</td>\n",
       "      <td>0.003959</td>\n",
       "      <td>0.006830</td>\n",
       "      <td>-0.000971</td>\n",
       "      <td>0.006234</td>\n",
       "    </tr>\n",
       "  </tbody>\n",
       "</table>\n",
       "<p>5 rows × 25 columns</p>\n",
       "</div>"
      ],
      "text/plain": [
       "         R2      AR_0      AR_1      AR_2       CAR      AR_3      AR_4  \\\n",
       "0  0.128830 -0.007562 -0.003897 -0.003800 -0.015259  0.000852  0.002784   \n",
       "1  0.194981  0.010013 -0.023147 -0.001675 -0.014810 -0.005370  0.029857   \n",
       "2  0.194981  0.010013 -0.023147 -0.001675 -0.014810 -0.005370  0.029857   \n",
       "3  0.194981  0.010013 -0.023147 -0.001675 -0.014810 -0.005370  0.029857   \n",
       "4  0.169658 -0.000717  0.014798 -0.012945  0.001136  0.000201  0.004155   \n",
       "\n",
       "       AR_5      AR_6      AR_7  ...     AR_13     AR_14     AR_15     AR_16  \\\n",
       "0 -0.004835  0.001227  0.027619  ... -0.014306  0.011629  0.007914 -0.010992   \n",
       "1  0.001260  0.004146  0.011401  ... -0.019324 -0.009113  0.028143 -0.012644   \n",
       "2  0.001260  0.004146  0.011401  ... -0.019324 -0.009113  0.028143 -0.012644   \n",
       "3  0.001260  0.004146  0.011401  ... -0.019324 -0.009113  0.028143 -0.012644   \n",
       "4 -0.001309 -0.007503  0.005054  ...  0.015649  0.032542 -0.005294  0.006481   \n",
       "\n",
       "      AR_17     AR_18     AR_19     AR_20     AR_21     AR_22  \n",
       "0  0.014925 -0.002662 -0.000235 -0.021305 -0.010795  0.025516  \n",
       "1  0.004742 -0.017907 -0.048328  0.013265 -0.015670 -0.034767  \n",
       "2  0.004742 -0.017907 -0.048328  0.013265 -0.015670 -0.034767  \n",
       "3  0.004742 -0.017907 -0.048328  0.013265 -0.015670 -0.034767  \n",
       "4  0.011057  0.018332  0.003959  0.006830 -0.000971  0.006234  \n",
       "\n",
       "[5 rows x 25 columns]"
      ]
     },
     "execution_count": 251,
     "metadata": {},
     "output_type": "execute_result"
    }
   ],
   "source": [
    "results2 = pd.concat([pd.DataFrame(pd.Series(R2s), columns=['R2']), \n",
    "                      pd.DataFrame(np.array(ARs)[:, 0], columns=['AR_0', 'AR_1', 'AR_2']),\n",
    "                      pd.DataFrame(pd.Series(CARs), columns=['CAR']),\n",
    "                      pd.DataFrame([v.reshape(-1) for v in  Post_ARs], \n",
    "                                    columns=[f'AR_{i+3}' for i in range(21)]).dropna(axis=1).reset_index(drop=True),\n",
    "                     ], axis=1) # なぜか列数が21となるため、drop()で対応\n",
    "results2.head()"
   ]
  },
  {
   "cell_type": "code",
   "execution_count": 252,
   "metadata": {
    "scrolled": true
   },
   "outputs": [
    {
     "name": "stdout",
     "output_type": "stream",
     "text": [
      "-1.5079763823526438 0.13157466524774059\n"
     ]
    }
   ],
   "source": [
    "# 検定\n",
    "t, p = stats.ttest_1samp(results2['CAR'] / results2['CAR'].std(), 0)\n",
    "print(t, p)"
   ]
  },
  {
   "cell_type": "code",
   "execution_count": 270,
   "metadata": {
    "scrolled": false
   },
   "outputs": [
    {
     "data": {
      "text/plain": [
       "<AxesSubplot:>"
      ]
     },
     "execution_count": 270,
     "metadata": {},
     "output_type": "execute_result"
    },
    {
     "data": {
      "image/png": "[encoded data removed]",
      "text/plain": [
       "<Figure size 432x288 with 1 Axes>"
      ]
     },
     "metadata": {
      "needs_background": "light"
     },
     "output_type": "display_data"
    }
   ],
   "source": [
    "AR_col = results2.columns[results2.columns.str.contains('AR_')]\n",
    "results2[AR_col].mean().plot()"
   ]
  },
  {
   "cell_type": "markdown",
   "metadata": {},
   "source": [
    " 公表直後は市場へインパクトがあるが、20日も立つと影響はなくなるように見える。  \n",
    "\n",
    "今回はニュースの内容にかかわらず、公表後の影響を見た。  \n",
    "ニュースの内容を識別をするためのアプローチとしては以下が考えられる。  \n",
    "* 極性値に基づく付与 (今回のコンペでは厳しい)\n",
    "* 将来のリターンと紐づける\n",
    "\n",
    "チュートリアルでは、ユニバースの週次リターン予測にニュースを利用し、下落の予兆を検知した際に現金比率を上げる戦略に利用していた。  \n",
    "「各週の数千個のニュースを利用して、次の週に値上がりする銘柄を予測するには、ニュース数と銘柄のバランスから難しいそう」と記載有り。 \n",
    "\n",
    "#### 一旦、個別銘柄ごとに将来のリターンと紐づけてニュースの分類器を作ってみる。  \n",
    "ただ、ニュース記事は1年分しか無い為、検証にはAPIで取得できるニュースを利用することにする。"
   ]
  },
  {
   "cell_type": "markdown",
   "metadata": {},
   "source": [
    "(追記)  \n",
    "ニュース公表後にマイナスが大きい場合、平均への回帰を利用したトレーディング手法を作るとよいのかもしれない。  \n",
    "ただし、今回のコンペでは5営業日後のリターンが成績となるため、この戦略を利用するには期間が短いかもしれない。"
   ]
  },
  {
   "cell_type": "markdown",
   "metadata": {},
   "source": [
    "## APIを利用してみる"
   ]
  },
  {
   "cell_type": "code",
   "execution_count": 272,
   "metadata": {},
   "outputs": [],
   "source": [
    "import os\n",
    "import json\n",
    "import requests\n",
    "import base64"
   ]
  },
  {
   "cell_type": "code",
   "execution_count": 278,
   "metadata": {},
   "outputs": [],
   "source": [
    "def call_refresh_api(refreshtoken: str):\n",
    "    \"\"\"\n",
    "    idTokenをリフレッシュするメソッド。\n",
    "\n",
    "    Parameters\n",
    "    ----------\n",
    "    refreshtoken : str\n",
    "        refreshtoken。ログイン後の画面からご確認いただけます。\n",
    "\n",
    "    Returns\n",
    "    -------\n",
    "    resjson : dict\n",
    "        新しいidtokenが格納されたAPIレスポンス(json形式)\n",
    "    \"\"\"\n",
    "    headers = {\"accept\": \"application/json\"}\n",
    "    data = {\"refresh-token\": refreshtoken}\n",
    "\n",
    "    response = requests.post(\n",
    "        \"https://api.jpx-jquants.com/refresh\", headers=headers, data=json.dumps(data)\n",
    "    )\n",
    "\n",
    "    resjson = json.loads(response.text)\n",
    "    return resjson\n",
    "\n",
    "def call_jquants_api(params: dict, idtoken: str, apitype: str, code: str = None):\n",
    "    \"\"\"\n",
    "    J-QuantsのAPIを試すメソッド。\n",
    "\n",
    "    Parameters\n",
    "    ----------\n",
    "    params : dict\n",
    "        リクエストパラメータ。\n",
    "    idtoken : str\n",
    "        idTokenはログイン後の画面からご確認いただけます。\n",
    "    apitype: str\n",
    "        APIの種類。\"news\", \"prices\", \"lists\"などがあります。\n",
    "    code: str\n",
    "        銘柄を指定するAPIの場合に設定します。\n",
    "\n",
    "    Returns\n",
    "    -------\n",
    "    resjson : dict\n",
    "        APIレスポンス(json形式)\n",
    "    \"\"\"\n",
    "    datefrom = params.get(\"datefrom\", None)\n",
    "    dateto = params.get(\"dateto\", None)\n",
    "    date = params.get(\"date\", None)\n",
    "    includedetails = params.get(\"includedetails\", \"false\")\n",
    "    keyword = params.get(\"keyword\", None)\n",
    "    headline = params.get(\"headline\", None)\n",
    "    paramcode = params.get(\"code\", None)\n",
    "    nexttoken = params.get(\"nextToken\", None)\n",
    "    headers = {\"accept\": \"application/json\", \"Authorization\": idtoken}\n",
    "    data = {\n",
    "        \"from\": datefrom,\n",
    "        \"to\": dateto,\n",
    "        \"includeDetails\": includedetails,\n",
    "        \"nextToken\": nexttoken,\n",
    "        \"date\": date,\n",
    "        \"keyword\": keyword,\n",
    "        \"headline\": headline,\n",
    "        \"code\": paramcode,\n",
    "    }\n",
    "\n",
    "    if code:\n",
    "        code = \"/\" + code\n",
    "        r = requests.get(\n",
    "            \"https://api.jpx-jquants.com/\" + apitype + code,\n",
    "            params=data,\n",
    "            headers=headers,\n",
    "        )\n",
    "    else:\n",
    "        r = requests.get(\n",
    "            \"https://api.jpx-jquants.com/\" + apitype, params=data, headers=headers\n",
    "        )\n",
    "    resjson = json.loads(r.text)\n",
    "    return resjson"
   ]
  },
  {
   "cell_type": "code",
   "execution_count": 280,
   "metadata": {},
   "outputs": [],
   "source": [
    "cur_dir = os.getcwd()\n",
    "os.chdir('../private/')\n",
    "from credentials import *\n",
    "os.chdir(cur_dir)\n",
    "refreshtoken = REFRESH_TOKEN\n",
    "id_token = call_refresh_api(refreshtoken)"
   ]
  },
  {
   "cell_type": "code",
   "execution_count": 281,
   "metadata": {},
   "outputs": [
    {
     "data": {
      "text/plain": [
       "{'news': [{'article_id': 'TDSKDBDGXLASFL21HM9_21022020000000',\n",
       "   'publish_datetime': '2020-02-21T16:34:00Z',\n",
       "   'media_code': 'TNY',\n",
       "   'media_name': '日本経済新聞電子版',\n",
       "   'men_name': '',\n",
       "   'headline': '日本取引所ＣＥＯ、東商取のエネルギー市場「早期に統合したい」',\n",
       "   'keywords': '最高経営責任者\\n東京商品取引所\\n日本取引所グループ\\n清田瞭\\nエネルギー市場\\n大阪取引所\\n統合\\n定例\\n早期',\n",
       "   'classifications': 'Ｔ８６９７\\nＰＤ５２１\\nＮ００４０４３１\\nＮ００７５１０７\\nＮ００４０７７９',\n",
       "   'stock_code': '8697'}],\n",
       " 'scrollId': 'FGluY2x1ZGVfY29udGV4dF91dWlkDnF1ZXJ5VGhlbkZldGNoBRRsbHk1M1hnQkNSalFKN2FodFFwNgAAAAAAAHnZFkd4Qm5xUGs3Uk5DTU94MXI1Ulk1UUEUbDF5NTNYZ0JDUmpRSjdhaHRRcUQAAAAAAAB52hZHeEJucVBrN1JOQ01PeDFyNVJZNVFBFG1GeTUzWGdCQ1JqUUo3YWh0UXFEAAAAAAAAedsWR3hCbnFQazdSTkNNT3gxcjVSWTVRQRRtVnk1M1hnQkNSalFKN2FodFFxRAAAAAAAAHncFkd4Qm5xUGs3Uk5DTU94MXI1Ulk1UUEUbWx5NTNYZ0JDUmpRSjdhaHRRcVoAAAAAAAB53RZHeEJucVBrN1JOQ01PeDFyNVJZNVFB'}"
      ]
     },
     "execution_count": 281,
     "metadata": {},
     "output_type": "execute_result"
    }
   ],
   "source": [
    "idtk=id_token['idToken']\n",
    "paramdict = {}\n",
    "paramdict[\"datefrom\"] = \"2020-02-01\"\n",
    "paramdict[\"dateto\"] = \"2020-02-25\"\n",
    "paramdict[\"code\"] = \"8697\"\n",
    "paramdict[\"headline\"] = \"日本取引所\"\n",
    "paramdict[\"keyword\"] = \"エネルギー\"\n",
    "call_jquants_api(paramdict, idtk, \"news\")"
   ]
  },
  {
   "cell_type": "code",
   "execution_count": null,
   "metadata": {},
   "outputs": [],
   "source": []
  }
 ],
 "metadata": {
  "kernelspec": {
   "display_name": "Python 3",
   "language": "python",
   "name": "python3"
  },
  "language_info": {
   "codemirror_mode": {
    "name": "ipython",
    "version": 3
   },
   "file_extension": ".py",
   "mimetype": "text/x-python",
   "name": "python",
   "nbconvert_exporter": "python",
   "pygments_lexer": "ipython3",
   "version": "3.8.5"
  }
 },
 "nbformat": 4,
 "nbformat_minor": 4
}
